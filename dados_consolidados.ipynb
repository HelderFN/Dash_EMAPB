{
 "cells": [
  {
   "cell_type": "markdown",
   "metadata": {},
   "source": [
    "### IMPORTAÇÃO DAS BIBLIOTECAS"
   ]
  },
  {
   "cell_type": "code",
   "execution_count": 1,
   "metadata": {},
   "outputs": [],
   "source": [
    "import pandas as pd\n",
    "import sqlite3\n",
    "import matplotlib.pyplot as plt\n",
    "import numpy as np\n",
    "import plotly.express as px\n",
    "import plotly.graph_objects as go\n",
    "from datetime import datetime\n",
    "import plotly.io as pio\n",
    "import os"
   ]
  },
  {
   "cell_type": "markdown",
   "metadata": {},
   "source": [
    "### CONEXÃO COM O BANCO DE DADOS MYSQL"
   ]
  },
  {
   "cell_type": "code",
   "execution_count": 2,
   "metadata": {},
   "outputs": [],
   "source": [
    "conn = sqlite3.connect(\"dados_turmas.db\")\n",
    "cursor = conn.cursor()\n",
    "query = \"SELECT * FROM alunos\"\n",
    "df = pd.read_sql_query(query, conn)\n",
    "conn.close()"
   ]
  },
  {
   "cell_type": "markdown",
   "metadata": {},
   "source": [
    "### VERIFICANDO A CONSISTÊNCIA DOS DADOS"
   ]
  },
  {
   "cell_type": "code",
   "execution_count": 3,
   "metadata": {},
   "outputs": [],
   "source": [
    "# Renomenado as colunas\n",
    "\n",
    "colunas_renomear = {\"id\":\"id\", \"nome\":\"Nome\",\"data_nasc\":\"Nascimento\",\"turma\":\"Turma\",\"bim\":\"Bimestre\",\"avaliacao_1\":\"Inst_1\", \"avaliacao_2\":\"Inst_2\",\"avaliacao_3\":\"Inst_3\", \"avaliacao_4\":\"Comportamento\",\"avaliacao_5\":\"CAED\"}\n",
    "\n",
    "df.rename(columns=colunas_renomear, inplace=True)"
   ]
  },
  {
   "cell_type": "code",
   "execution_count": 4,
   "metadata": {},
   "outputs": [],
   "source": [
    "# Transformando os dados em numéricos\n",
    "\n",
    "cols = ['Inst_1',\"Inst_2\",\"Inst_3\",\"Comportamento\",\"CAED\",\"Ano\"]\n",
    "\n",
    "for col in cols:\n",
    "    df[col] = pd.to_numeric(df[col], errors = \"coerce\")"
   ]
  },
  {
   "cell_type": "code",
   "execution_count": 5,
   "metadata": {},
   "outputs": [
    {
     "data": {
      "text/html": [
       "<div>\n",
       "<style scoped>\n",
       "    .dataframe tbody tr th:only-of-type {\n",
       "        vertical-align: middle;\n",
       "    }\n",
       "\n",
       "    .dataframe tbody tr th {\n",
       "        vertical-align: top;\n",
       "    }\n",
       "\n",
       "    .dataframe thead th {\n",
       "        text-align: right;\n",
       "    }\n",
       "</style>\n",
       "<table border=\"1\" class=\"dataframe\">\n",
       "  <thead>\n",
       "    <tr style=\"text-align: right;\">\n",
       "      <th></th>\n",
       "      <th>id</th>\n",
       "      <th>Nome</th>\n",
       "      <th>Nascimento</th>\n",
       "      <th>Turma</th>\n",
       "      <th>Bimestre</th>\n",
       "      <th>Inst_1</th>\n",
       "      <th>Inst_2</th>\n",
       "      <th>Inst_3</th>\n",
       "      <th>Comportamento</th>\n",
       "      <th>CAED</th>\n",
       "      <th>Ano</th>\n",
       "      <th>Idade</th>\n",
       "    </tr>\n",
       "  </thead>\n",
       "  <tbody>\n",
       "    <tr>\n",
       "      <th>0</th>\n",
       "      <td>1</td>\n",
       "      <td>ANA CLARA VIEIRA</td>\n",
       "      <td>2009-08-18</td>\n",
       "      <td>900</td>\n",
       "      <td>4</td>\n",
       "      <td>9.0</td>\n",
       "      <td>14.0</td>\n",
       "      <td>30.0</td>\n",
       "      <td>20.0</td>\n",
       "      <td>8.0</td>\n",
       "      <td>2024</td>\n",
       "      <td>15</td>\n",
       "    </tr>\n",
       "    <tr>\n",
       "      <th>1</th>\n",
       "      <td>2</td>\n",
       "      <td>CLARA SCHULTZ</td>\n",
       "      <td>2010-07-29</td>\n",
       "      <td>900</td>\n",
       "      <td>4</td>\n",
       "      <td>18.0</td>\n",
       "      <td>14.0</td>\n",
       "      <td>0.0</td>\n",
       "      <td>10.0</td>\n",
       "      <td>12.0</td>\n",
       "      <td>2024</td>\n",
       "      <td>14</td>\n",
       "    </tr>\n",
       "    <tr>\n",
       "      <th>2</th>\n",
       "      <td>3</td>\n",
       "      <td>EMANUELLY CRISTINA</td>\n",
       "      <td>2010-03-08</td>\n",
       "      <td>900</td>\n",
       "      <td>4</td>\n",
       "      <td>23.0</td>\n",
       "      <td>12.0</td>\n",
       "      <td>30.0</td>\n",
       "      <td>20.0</td>\n",
       "      <td>21.0</td>\n",
       "      <td>2024</td>\n",
       "      <td>14</td>\n",
       "    </tr>\n",
       "    <tr>\n",
       "      <th>3</th>\n",
       "      <td>4</td>\n",
       "      <td>EMILLY PEDRO</td>\n",
       "      <td>2010-08-16</td>\n",
       "      <td>900</td>\n",
       "      <td>4</td>\n",
       "      <td>2.0</td>\n",
       "      <td>14.0</td>\n",
       "      <td>0.0</td>\n",
       "      <td>5.0</td>\n",
       "      <td>10.0</td>\n",
       "      <td>2024</td>\n",
       "      <td>14</td>\n",
       "    </tr>\n",
       "    <tr>\n",
       "      <th>4</th>\n",
       "      <td>5</td>\n",
       "      <td>ERICK JUNIOR</td>\n",
       "      <td>2008-11-05</td>\n",
       "      <td>900</td>\n",
       "      <td>4</td>\n",
       "      <td>0.0</td>\n",
       "      <td>0.0</td>\n",
       "      <td>0.0</td>\n",
       "      <td>5.0</td>\n",
       "      <td>8.0</td>\n",
       "      <td>2024</td>\n",
       "      <td>16</td>\n",
       "    </tr>\n",
       "    <tr>\n",
       "      <th>...</th>\n",
       "      <td>...</td>\n",
       "      <td>...</td>\n",
       "      <td>...</td>\n",
       "      <td>...</td>\n",
       "      <td>...</td>\n",
       "      <td>...</td>\n",
       "      <td>...</td>\n",
       "      <td>...</td>\n",
       "      <td>...</td>\n",
       "      <td>...</td>\n",
       "      <td>...</td>\n",
       "      <td>...</td>\n",
       "    </tr>\n",
       "    <tr>\n",
       "      <th>66</th>\n",
       "      <td>67</td>\n",
       "      <td>PAULO BERNARDO</td>\n",
       "      <td>2010-06-11</td>\n",
       "      <td>902</td>\n",
       "      <td>4</td>\n",
       "      <td>6.0</td>\n",
       "      <td>14.0</td>\n",
       "      <td>20.0</td>\n",
       "      <td>0.0</td>\n",
       "      <td>8.0</td>\n",
       "      <td>2024</td>\n",
       "      <td>14</td>\n",
       "    </tr>\n",
       "    <tr>\n",
       "      <th>67</th>\n",
       "      <td>68</td>\n",
       "      <td>RAPHAEL FERREIRA</td>\n",
       "      <td>2010-06-11</td>\n",
       "      <td>902</td>\n",
       "      <td>4</td>\n",
       "      <td>11.0</td>\n",
       "      <td>14.0</td>\n",
       "      <td>30.0</td>\n",
       "      <td>20.0</td>\n",
       "      <td>11.0</td>\n",
       "      <td>2024</td>\n",
       "      <td>14</td>\n",
       "    </tr>\n",
       "    <tr>\n",
       "      <th>68</th>\n",
       "      <td>69</td>\n",
       "      <td>RAPHAEL RODOVALHO</td>\n",
       "      <td>2010-06-11</td>\n",
       "      <td>902</td>\n",
       "      <td>4</td>\n",
       "      <td>13.0</td>\n",
       "      <td>10.0</td>\n",
       "      <td>30.0</td>\n",
       "      <td>20.0</td>\n",
       "      <td>11.0</td>\n",
       "      <td>2024</td>\n",
       "      <td>14</td>\n",
       "    </tr>\n",
       "    <tr>\n",
       "      <th>69</th>\n",
       "      <td>70</td>\n",
       "      <td>VICTORIA MARQUES</td>\n",
       "      <td>2010-06-11</td>\n",
       "      <td>901</td>\n",
       "      <td>4</td>\n",
       "      <td>30.0</td>\n",
       "      <td>12.0</td>\n",
       "      <td>25.0</td>\n",
       "      <td>20.0</td>\n",
       "      <td>11.0</td>\n",
       "      <td>2024</td>\n",
       "      <td>14</td>\n",
       "    </tr>\n",
       "    <tr>\n",
       "      <th>70</th>\n",
       "      <td>71</td>\n",
       "      <td>VINICIUS BRANCO</td>\n",
       "      <td>2010-06-11</td>\n",
       "      <td>902</td>\n",
       "      <td>4</td>\n",
       "      <td>22.0</td>\n",
       "      <td>11.0</td>\n",
       "      <td>25.0</td>\n",
       "      <td>20.0</td>\n",
       "      <td>17.0</td>\n",
       "      <td>2024</td>\n",
       "      <td>14</td>\n",
       "    </tr>\n",
       "  </tbody>\n",
       "</table>\n",
       "<p>71 rows × 12 columns</p>\n",
       "</div>"
      ],
      "text/plain": [
       "    id                Nome Nascimento Turma  Bimestre  Inst_1  Inst_2  Inst_3  \\\n",
       "0    1    ANA CLARA VIEIRA 2009-08-18   900         4     9.0    14.0    30.0   \n",
       "1    2       CLARA SCHULTZ 2010-07-29   900         4    18.0    14.0     0.0   \n",
       "2    3  EMANUELLY CRISTINA 2010-03-08   900         4    23.0    12.0    30.0   \n",
       "3    4        EMILLY PEDRO 2010-08-16   900         4     2.0    14.0     0.0   \n",
       "4    5        ERICK JUNIOR 2008-11-05   900         4     0.0     0.0     0.0   \n",
       "..  ..                 ...        ...   ...       ...     ...     ...     ...   \n",
       "66  67      PAULO BERNARDO 2010-06-11   902         4     6.0    14.0    20.0   \n",
       "67  68    RAPHAEL FERREIRA 2010-06-11   902         4    11.0    14.0    30.0   \n",
       "68  69   RAPHAEL RODOVALHO 2010-06-11   902         4    13.0    10.0    30.0   \n",
       "69  70    VICTORIA MARQUES 2010-06-11   901         4    30.0    12.0    25.0   \n",
       "70  71     VINICIUS BRANCO 2010-06-11   902         4    22.0    11.0    25.0   \n",
       "\n",
       "    Comportamento  CAED   Ano  Idade  \n",
       "0            20.0   8.0  2024     15  \n",
       "1            10.0  12.0  2024     14  \n",
       "2            20.0  21.0  2024     14  \n",
       "3             5.0  10.0  2024     14  \n",
       "4             5.0   8.0  2024     16  \n",
       "..            ...   ...   ...    ...  \n",
       "66            0.0   8.0  2024     14  \n",
       "67           20.0  11.0  2024     14  \n",
       "68           20.0  11.0  2024     14  \n",
       "69           20.0  11.0  2024     14  \n",
       "70           20.0  17.0  2024     14  \n",
       "\n",
       "[71 rows x 12 columns]"
      ]
     },
     "execution_count": 5,
     "metadata": {},
     "output_type": "execute_result"
    }
   ],
   "source": [
    "# Inserindo a coluna idade\n",
    "\n",
    "hoje = datetime.now()\n",
    "df['Nascimento'] = pd.to_datetime(df[\"Nascimento\"], dayfirst=True, format=r\"%d/%m/%Y\")\n",
    "df[\"Idade\"] = df.Nascimento.apply(lambda x: hoje.year - x.year - ((hoje.month,hoje.day) < (x.month,x.day)))\n",
    "df.fillna(0)"
   ]
  },
  {
   "cell_type": "code",
   "execution_count": 6,
   "metadata": {},
   "outputs": [],
   "source": [
    "# Separando o dataframe por turma\n",
    "\n",
    "df_900 = df.query(\"Turma=='900'\").sort_values(by='Nome', ascending=False)\n",
    "df_901 = df.query(\"Turma=='901'\").sort_values(by='Nome', ascending=False)\n",
    "df_902 = df.query(\"Turma=='902'\").sort_values(by='Nome', ascending=False)"
   ]
  },
  {
   "cell_type": "markdown",
   "metadata": {},
   "source": [
    "### GRÁFICOS"
   ]
  },
  {
   "cell_type": "code",
   "execution_count": 7,
   "metadata": {},
   "outputs": [],
   "source": [
    "fig1 = px.bar(\n",
    "    df_900,\n",
    "    y=\"Nome\",\n",
    "    x = [\"Inst_1\",\"Inst_2\",\"Inst_3\",\"Comportamento\",\"CAED\"],\n",
    "    orientation = \"h\",\n",
    "    labels={\"variable\": \"Instrumentos Avaliativos\"},\n",
    "    text_auto=True\n",
    ")\n",
    "\n",
    "fig2 = px.bar(\n",
    "    df_901,\n",
    "    y=\"Nome\",\n",
    "    x = [\"Inst_1\",\"Inst_2\",\"Inst_3\",\"Comportamento\",\"CAED\"],\n",
    "    orientation = \"h\",\n",
    "    labels={\"variable\": \"Instrumentos Avaliativos\"},\n",
    "    text_auto=True\n",
    ")\n",
    "\n",
    "fig3 = px.bar(\n",
    "    df_902,\n",
    "    y=\"Nome\",\n",
    "    x = [\"Inst_1\",\"Inst_2\",\"Inst_3\",\"Comportamento\",\"CAED\"],\n",
    "    orientation = \"h\",\n",
    "     labels={\"variable\": \"Instrumentos Avaliativos\"},\n",
    "     text_auto=True\n",
    ")\n",
    "\n",
    "def atualizar_layout(fig, turma:str):\n",
    "    fig.update_layout(\n",
    "        title={\n",
    "            \"text\": f\"Turma {str(turma)} - Notas dos Instrumentos Avaliativos\",\n",
    "            \"y\": 0.98,\n",
    "            \"x\": 0.5,\n",
    "            \"xanchor\": \"center\",\n",
    "            \"yanchor\":\"top\",\n",
    "            \"font\":{\"size\":24}\n",
    "        },\n",
    "    xaxis_title = \"notas\",\n",
    "    xaxis_range=[0,100],\n",
    "    xaxis = dict(\n",
    "        title_font=dict(size=18),\n",
    "        tickfont=dict(size=14)\n",
    "    ),\n",
    "    yaxis = dict(\n",
    "        title_font = dict(size=18),\n",
    "        tickfont=dict(size=14)\n",
    "    ),\n",
    "\n",
    "    width=1500,\n",
    "    height = 700\n",
    "    )\n",
    "\n",
    "atualizar_layout(fig1,900)\n",
    "atualizar_layout(fig2,901)\n",
    "atualizar_layout(fig3,902)\n",
    "\n",
    "#fig1.show()\n",
    "#fig2.show()\n",
    "#fig3.show()\n"
   ]
  },
  {
   "cell_type": "markdown",
   "metadata": {},
   "source": [
    "### CÁLCULO DAS MÉDIAS POR TURMA"
   ]
  },
  {
   "cell_type": "code",
   "execution_count": 8,
   "metadata": {},
   "outputs": [
    {
     "ename": "ValueError",
     "evalue": "Mime type rendering requires nbformat>=4.2.0 but it is not installed",
     "output_type": "error",
     "traceback": [
      "\u001b[1;31m---------------------------------------------------------------------------\u001b[0m",
      "\u001b[1;31mValueError\u001b[0m                                Traceback (most recent call last)",
      "File \u001b[1;32mc:\\Users\\Helde\\OneDrive\\Área de Trabalho\\Base_Dados\\.venv\\Lib\\site-packages\\IPython\\core\\formatters.py:925\u001b[0m, in \u001b[0;36mIPythonDisplayFormatter.__call__\u001b[1;34m(self, obj)\u001b[0m\n\u001b[0;32m    923\u001b[0m method \u001b[38;5;241m=\u001b[39m get_real_method(obj, \u001b[38;5;28mself\u001b[39m\u001b[38;5;241m.\u001b[39mprint_method)\n\u001b[0;32m    924\u001b[0m \u001b[38;5;28;01mif\u001b[39;00m method \u001b[38;5;129;01mis\u001b[39;00m \u001b[38;5;129;01mnot\u001b[39;00m \u001b[38;5;28;01mNone\u001b[39;00m:\n\u001b[1;32m--> 925\u001b[0m     \u001b[43mmethod\u001b[49m\u001b[43m(\u001b[49m\u001b[43m)\u001b[49m\n\u001b[0;32m    926\u001b[0m     \u001b[38;5;28;01mreturn\u001b[39;00m \u001b[38;5;28;01mTrue\u001b[39;00m\n",
      "File \u001b[1;32mc:\\Users\\Helde\\OneDrive\\Área de Trabalho\\Base_Dados\\.venv\\Lib\\site-packages\\plotly\\basedatatypes.py:832\u001b[0m, in \u001b[0;36mBaseFigure._ipython_display_\u001b[1;34m(self)\u001b[0m\n\u001b[0;32m    829\u001b[0m \u001b[38;5;28;01mimport\u001b[39;00m \u001b[38;5;21;01mplotly\u001b[39;00m\u001b[38;5;21;01m.\u001b[39;00m\u001b[38;5;21;01mio\u001b[39;00m \u001b[38;5;28;01mas\u001b[39;00m \u001b[38;5;21;01mpio\u001b[39;00m\n\u001b[0;32m    831\u001b[0m \u001b[38;5;28;01mif\u001b[39;00m pio\u001b[38;5;241m.\u001b[39mrenderers\u001b[38;5;241m.\u001b[39mrender_on_display \u001b[38;5;129;01mand\u001b[39;00m pio\u001b[38;5;241m.\u001b[39mrenderers\u001b[38;5;241m.\u001b[39mdefault:\n\u001b[1;32m--> 832\u001b[0m     \u001b[43mpio\u001b[49m\u001b[38;5;241;43m.\u001b[39;49m\u001b[43mshow\u001b[49m\u001b[43m(\u001b[49m\u001b[38;5;28;43mself\u001b[39;49m\u001b[43m)\u001b[49m\n\u001b[0;32m    833\u001b[0m \u001b[38;5;28;01melse\u001b[39;00m:\n\u001b[0;32m    834\u001b[0m     \u001b[38;5;28mprint\u001b[39m(\u001b[38;5;28mrepr\u001b[39m(\u001b[38;5;28mself\u001b[39m))\n",
      "File \u001b[1;32mc:\\Users\\Helde\\OneDrive\\Área de Trabalho\\Base_Dados\\.venv\\Lib\\site-packages\\plotly\\io\\_renderers.py:394\u001b[0m, in \u001b[0;36mshow\u001b[1;34m(fig, renderer, validate, **kwargs)\u001b[0m\n\u001b[0;32m    389\u001b[0m         \u001b[38;5;28;01mraise\u001b[39;00m \u001b[38;5;167;01mValueError\u001b[39;00m(\n\u001b[0;32m    390\u001b[0m             \u001b[38;5;124m\"\u001b[39m\u001b[38;5;124mMime type rendering requires ipython but it is not installed\u001b[39m\u001b[38;5;124m\"\u001b[39m\n\u001b[0;32m    391\u001b[0m         )\n\u001b[0;32m    393\u001b[0m     \u001b[38;5;28;01mif\u001b[39;00m \u001b[38;5;129;01mnot\u001b[39;00m nbformat \u001b[38;5;129;01mor\u001b[39;00m Version(nbformat\u001b[38;5;241m.\u001b[39m__version__) \u001b[38;5;241m<\u001b[39m Version(\u001b[38;5;124m\"\u001b[39m\u001b[38;5;124m4.2.0\u001b[39m\u001b[38;5;124m\"\u001b[39m):\n\u001b[1;32m--> 394\u001b[0m         \u001b[38;5;28;01mraise\u001b[39;00m \u001b[38;5;167;01mValueError\u001b[39;00m(\n\u001b[0;32m    395\u001b[0m             \u001b[38;5;124m\"\u001b[39m\u001b[38;5;124mMime type rendering requires nbformat>=4.2.0 but it is not installed\u001b[39m\u001b[38;5;124m\"\u001b[39m\n\u001b[0;32m    396\u001b[0m         )\n\u001b[0;32m    398\u001b[0m     ipython_display\u001b[38;5;241m.\u001b[39mdisplay(bundle, raw\u001b[38;5;241m=\u001b[39m\u001b[38;5;28;01mTrue\u001b[39;00m)\n\u001b[0;32m    400\u001b[0m \u001b[38;5;66;03m# external renderers\u001b[39;00m\n",
      "\u001b[1;31mValueError\u001b[0m: Mime type rendering requires nbformat>=4.2.0 but it is not installed"
     ]
    },
    {
     "data": {
      "application/vnd.plotly.v1+json": {
       "config": {
        "plotlyServerURL": "https://plot.ly"
       },
       "data": [
        {
         "alignmentgroup": "True",
         "hovertemplate": "Instrumentos Avaliativos=Inst_1<br>Turma=%{x}<br>value=%{y}<extra></extra>",
         "legendgroup": "Inst_1",
         "marker": {
          "color": "#636efa",
          "pattern": {
           "shape": ""
          }
         },
         "name": "Inst_1",
         "offsetgroup": "Inst_1",
         "orientation": "v",
         "showlegend": true,
         "textposition": "auto",
         "texttemplate": "%{y}",
         "type": "bar",
         "x": [
          "900",
          "901",
          "902"
         ],
         "xaxis": "x",
         "y": [
          10.782608695652174,
          20,
          11.789473684210526
         ],
         "yaxis": "y"
        },
        {
         "alignmentgroup": "True",
         "hovertemplate": "Instrumentos Avaliativos=Inst_2<br>Turma=%{x}<br>value=%{y}<extra></extra>",
         "legendgroup": "Inst_2",
         "marker": {
          "color": "#EF553B",
          "pattern": {
           "shape": ""
          }
         },
         "name": "Inst_2",
         "offsetgroup": "Inst_2",
         "orientation": "v",
         "showlegend": true,
         "textposition": "auto",
         "texttemplate": "%{y}",
         "type": "bar",
         "x": [
          "900",
          "901",
          "902"
         ],
         "xaxis": "x",
         "y": [
          11.478260869565217,
          11.482758620689655,
          11.736842105263158
         ],
         "yaxis": "y"
        },
        {
         "alignmentgroup": "True",
         "hovertemplate": "Instrumentos Avaliativos=Inst_3<br>Turma=%{x}<br>value=%{y}<extra></extra>",
         "legendgroup": "Inst_3",
         "marker": {
          "color": "#00cc96",
          "pattern": {
           "shape": ""
          }
         },
         "name": "Inst_3",
         "offsetgroup": "Inst_3",
         "orientation": "v",
         "showlegend": true,
         "textposition": "auto",
         "texttemplate": "%{y}",
         "type": "bar",
         "x": [
          "900",
          "901",
          "902"
         ],
         "xaxis": "x",
         "y": [
          6.521739130434782,
          23.79310344827586,
          24.157894736842106
         ],
         "yaxis": "y"
        },
        {
         "alignmentgroup": "True",
         "hovertemplate": "Instrumentos Avaliativos=CAED<br>Turma=%{x}<br>value=%{y}<extra></extra>",
         "legendgroup": "CAED",
         "marker": {
          "color": "#ab63fa",
          "pattern": {
           "shape": ""
          }
         },
         "name": "CAED",
         "offsetgroup": "CAED",
         "orientation": "v",
         "showlegend": true,
         "textposition": "auto",
         "texttemplate": "%{y}",
         "type": "bar",
         "x": [
          "900",
          "901",
          "902"
         ],
         "xaxis": "x",
         "y": [
          9.869565217391305,
          10.827586206896552,
          10.157894736842104
         ],
         "yaxis": "y"
        },
        {
         "alignmentgroup": "True",
         "hovertemplate": "Instrumentos Avaliativos=Comportamento<br>Turma=%{x}<br>value=%{y}<extra></extra>",
         "legendgroup": "Comportamento",
         "marker": {
          "color": "#FFA15A",
          "pattern": {
           "shape": ""
          }
         },
         "name": "Comportamento",
         "offsetgroup": "Comportamento",
         "orientation": "v",
         "showlegend": true,
         "textposition": "auto",
         "texttemplate": "%{y}",
         "type": "bar",
         "x": [
          "900",
          "901",
          "902"
         ],
         "xaxis": "x",
         "y": [
          15.217391304347826,
          17.413793103448278,
          14
         ],
         "yaxis": "y"
        }
       ],
       "layout": {
        "barmode": "relative",
        "height": 700,
        "legend": {
         "title": {
          "text": "Instrumentos Avaliativos"
         },
         "tracegroupgap": 0
        },
        "margin": {
         "t": 60
        },
        "template": {
         "data": {
          "bar": [
           {
            "error_x": {
             "color": "#2a3f5f"
            },
            "error_y": {
             "color": "#2a3f5f"
            },
            "marker": {
             "line": {
              "color": "#E5ECF6",
              "width": 0.5
             },
             "pattern": {
              "fillmode": "overlay",
              "size": 10,
              "solidity": 0.2
             }
            },
            "type": "bar"
           }
          ],
          "barpolar": [
           {
            "marker": {
             "line": {
              "color": "#E5ECF6",
              "width": 0.5
             },
             "pattern": {
              "fillmode": "overlay",
              "size": 10,
              "solidity": 0.2
             }
            },
            "type": "barpolar"
           }
          ],
          "carpet": [
           {
            "aaxis": {
             "endlinecolor": "#2a3f5f",
             "gridcolor": "white",
             "linecolor": "white",
             "minorgridcolor": "white",
             "startlinecolor": "#2a3f5f"
            },
            "baxis": {
             "endlinecolor": "#2a3f5f",
             "gridcolor": "white",
             "linecolor": "white",
             "minorgridcolor": "white",
             "startlinecolor": "#2a3f5f"
            },
            "type": "carpet"
           }
          ],
          "choropleth": [
           {
            "colorbar": {
             "outlinewidth": 0,
             "ticks": ""
            },
            "type": "choropleth"
           }
          ],
          "contour": [
           {
            "colorbar": {
             "outlinewidth": 0,
             "ticks": ""
            },
            "colorscale": [
             [
              0,
              "#0d0887"
             ],
             [
              0.1111111111111111,
              "#46039f"
             ],
             [
              0.2222222222222222,
              "#7201a8"
             ],
             [
              0.3333333333333333,
              "#9c179e"
             ],
             [
              0.4444444444444444,
              "#bd3786"
             ],
             [
              0.5555555555555556,
              "#d8576b"
             ],
             [
              0.6666666666666666,
              "#ed7953"
             ],
             [
              0.7777777777777778,
              "#fb9f3a"
             ],
             [
              0.8888888888888888,
              "#fdca26"
             ],
             [
              1,
              "#f0f921"
             ]
            ],
            "type": "contour"
           }
          ],
          "contourcarpet": [
           {
            "colorbar": {
             "outlinewidth": 0,
             "ticks": ""
            },
            "type": "contourcarpet"
           }
          ],
          "heatmap": [
           {
            "colorbar": {
             "outlinewidth": 0,
             "ticks": ""
            },
            "colorscale": [
             [
              0,
              "#0d0887"
             ],
             [
              0.1111111111111111,
              "#46039f"
             ],
             [
              0.2222222222222222,
              "#7201a8"
             ],
             [
              0.3333333333333333,
              "#9c179e"
             ],
             [
              0.4444444444444444,
              "#bd3786"
             ],
             [
              0.5555555555555556,
              "#d8576b"
             ],
             [
              0.6666666666666666,
              "#ed7953"
             ],
             [
              0.7777777777777778,
              "#fb9f3a"
             ],
             [
              0.8888888888888888,
              "#fdca26"
             ],
             [
              1,
              "#f0f921"
             ]
            ],
            "type": "heatmap"
           }
          ],
          "heatmapgl": [
           {
            "colorbar": {
             "outlinewidth": 0,
             "ticks": ""
            },
            "colorscale": [
             [
              0,
              "#0d0887"
             ],
             [
              0.1111111111111111,
              "#46039f"
             ],
             [
              0.2222222222222222,
              "#7201a8"
             ],
             [
              0.3333333333333333,
              "#9c179e"
             ],
             [
              0.4444444444444444,
              "#bd3786"
             ],
             [
              0.5555555555555556,
              "#d8576b"
             ],
             [
              0.6666666666666666,
              "#ed7953"
             ],
             [
              0.7777777777777778,
              "#fb9f3a"
             ],
             [
              0.8888888888888888,
              "#fdca26"
             ],
             [
              1,
              "#f0f921"
             ]
            ],
            "type": "heatmapgl"
           }
          ],
          "histogram": [
           {
            "marker": {
             "pattern": {
              "fillmode": "overlay",
              "size": 10,
              "solidity": 0.2
             }
            },
            "type": "histogram"
           }
          ],
          "histogram2d": [
           {
            "colorbar": {
             "outlinewidth": 0,
             "ticks": ""
            },
            "colorscale": [
             [
              0,
              "#0d0887"
             ],
             [
              0.1111111111111111,
              "#46039f"
             ],
             [
              0.2222222222222222,
              "#7201a8"
             ],
             [
              0.3333333333333333,
              "#9c179e"
             ],
             [
              0.4444444444444444,
              "#bd3786"
             ],
             [
              0.5555555555555556,
              "#d8576b"
             ],
             [
              0.6666666666666666,
              "#ed7953"
             ],
             [
              0.7777777777777778,
              "#fb9f3a"
             ],
             [
              0.8888888888888888,
              "#fdca26"
             ],
             [
              1,
              "#f0f921"
             ]
            ],
            "type": "histogram2d"
           }
          ],
          "histogram2dcontour": [
           {
            "colorbar": {
             "outlinewidth": 0,
             "ticks": ""
            },
            "colorscale": [
             [
              0,
              "#0d0887"
             ],
             [
              0.1111111111111111,
              "#46039f"
             ],
             [
              0.2222222222222222,
              "#7201a8"
             ],
             [
              0.3333333333333333,
              "#9c179e"
             ],
             [
              0.4444444444444444,
              "#bd3786"
             ],
             [
              0.5555555555555556,
              "#d8576b"
             ],
             [
              0.6666666666666666,
              "#ed7953"
             ],
             [
              0.7777777777777778,
              "#fb9f3a"
             ],
             [
              0.8888888888888888,
              "#fdca26"
             ],
             [
              1,
              "#f0f921"
             ]
            ],
            "type": "histogram2dcontour"
           }
          ],
          "mesh3d": [
           {
            "colorbar": {
             "outlinewidth": 0,
             "ticks": ""
            },
            "type": "mesh3d"
           }
          ],
          "parcoords": [
           {
            "line": {
             "colorbar": {
              "outlinewidth": 0,
              "ticks": ""
             }
            },
            "type": "parcoords"
           }
          ],
          "pie": [
           {
            "automargin": true,
            "type": "pie"
           }
          ],
          "scatter": [
           {
            "fillpattern": {
             "fillmode": "overlay",
             "size": 10,
             "solidity": 0.2
            },
            "type": "scatter"
           }
          ],
          "scatter3d": [
           {
            "line": {
             "colorbar": {
              "outlinewidth": 0,
              "ticks": ""
             }
            },
            "marker": {
             "colorbar": {
              "outlinewidth": 0,
              "ticks": ""
             }
            },
            "type": "scatter3d"
           }
          ],
          "scattercarpet": [
           {
            "marker": {
             "colorbar": {
              "outlinewidth": 0,
              "ticks": ""
             }
            },
            "type": "scattercarpet"
           }
          ],
          "scattergeo": [
           {
            "marker": {
             "colorbar": {
              "outlinewidth": 0,
              "ticks": ""
             }
            },
            "type": "scattergeo"
           }
          ],
          "scattergl": [
           {
            "marker": {
             "colorbar": {
              "outlinewidth": 0,
              "ticks": ""
             }
            },
            "type": "scattergl"
           }
          ],
          "scattermapbox": [
           {
            "marker": {
             "colorbar": {
              "outlinewidth": 0,
              "ticks": ""
             }
            },
            "type": "scattermapbox"
           }
          ],
          "scatterpolar": [
           {
            "marker": {
             "colorbar": {
              "outlinewidth": 0,
              "ticks": ""
             }
            },
            "type": "scatterpolar"
           }
          ],
          "scatterpolargl": [
           {
            "marker": {
             "colorbar": {
              "outlinewidth": 0,
              "ticks": ""
             }
            },
            "type": "scatterpolargl"
           }
          ],
          "scatterternary": [
           {
            "marker": {
             "colorbar": {
              "outlinewidth": 0,
              "ticks": ""
             }
            },
            "type": "scatterternary"
           }
          ],
          "surface": [
           {
            "colorbar": {
             "outlinewidth": 0,
             "ticks": ""
            },
            "colorscale": [
             [
              0,
              "#0d0887"
             ],
             [
              0.1111111111111111,
              "#46039f"
             ],
             [
              0.2222222222222222,
              "#7201a8"
             ],
             [
              0.3333333333333333,
              "#9c179e"
             ],
             [
              0.4444444444444444,
              "#bd3786"
             ],
             [
              0.5555555555555556,
              "#d8576b"
             ],
             [
              0.6666666666666666,
              "#ed7953"
             ],
             [
              0.7777777777777778,
              "#fb9f3a"
             ],
             [
              0.8888888888888888,
              "#fdca26"
             ],
             [
              1,
              "#f0f921"
             ]
            ],
            "type": "surface"
           }
          ],
          "table": [
           {
            "cells": {
             "fill": {
              "color": "#EBF0F8"
             },
             "line": {
              "color": "white"
             }
            },
            "header": {
             "fill": {
              "color": "#C8D4E3"
             },
             "line": {
              "color": "white"
             }
            },
            "type": "table"
           }
          ]
         },
         "layout": {
          "annotationdefaults": {
           "arrowcolor": "#2a3f5f",
           "arrowhead": 0,
           "arrowwidth": 1
          },
          "autotypenumbers": "strict",
          "coloraxis": {
           "colorbar": {
            "outlinewidth": 0,
            "ticks": ""
           }
          },
          "colorscale": {
           "diverging": [
            [
             0,
             "#8e0152"
            ],
            [
             0.1,
             "#c51b7d"
            ],
            [
             0.2,
             "#de77ae"
            ],
            [
             0.3,
             "#f1b6da"
            ],
            [
             0.4,
             "#fde0ef"
            ],
            [
             0.5,
             "#f7f7f7"
            ],
            [
             0.6,
             "#e6f5d0"
            ],
            [
             0.7,
             "#b8e186"
            ],
            [
             0.8,
             "#7fbc41"
            ],
            [
             0.9,
             "#4d9221"
            ],
            [
             1,
             "#276419"
            ]
           ],
           "sequential": [
            [
             0,
             "#0d0887"
            ],
            [
             0.1111111111111111,
             "#46039f"
            ],
            [
             0.2222222222222222,
             "#7201a8"
            ],
            [
             0.3333333333333333,
             "#9c179e"
            ],
            [
             0.4444444444444444,
             "#bd3786"
            ],
            [
             0.5555555555555556,
             "#d8576b"
            ],
            [
             0.6666666666666666,
             "#ed7953"
            ],
            [
             0.7777777777777778,
             "#fb9f3a"
            ],
            [
             0.8888888888888888,
             "#fdca26"
            ],
            [
             1,
             "#f0f921"
            ]
           ],
           "sequentialminus": [
            [
             0,
             "#0d0887"
            ],
            [
             0.1111111111111111,
             "#46039f"
            ],
            [
             0.2222222222222222,
             "#7201a8"
            ],
            [
             0.3333333333333333,
             "#9c179e"
            ],
            [
             0.4444444444444444,
             "#bd3786"
            ],
            [
             0.5555555555555556,
             "#d8576b"
            ],
            [
             0.6666666666666666,
             "#ed7953"
            ],
            [
             0.7777777777777778,
             "#fb9f3a"
            ],
            [
             0.8888888888888888,
             "#fdca26"
            ],
            [
             1,
             "#f0f921"
            ]
           ]
          },
          "colorway": [
           "#636efa",
           "#EF553B",
           "#00cc96",
           "#ab63fa",
           "#FFA15A",
           "#19d3f3",
           "#FF6692",
           "#B6E880",
           "#FF97FF",
           "#FECB52"
          ],
          "font": {
           "color": "#2a3f5f"
          },
          "geo": {
           "bgcolor": "white",
           "lakecolor": "white",
           "landcolor": "#E5ECF6",
           "showlakes": true,
           "showland": true,
           "subunitcolor": "white"
          },
          "hoverlabel": {
           "align": "left"
          },
          "hovermode": "closest",
          "mapbox": {
           "style": "light"
          },
          "paper_bgcolor": "white",
          "plot_bgcolor": "#E5ECF6",
          "polar": {
           "angularaxis": {
            "gridcolor": "white",
            "linecolor": "white",
            "ticks": ""
           },
           "bgcolor": "#E5ECF6",
           "radialaxis": {
            "gridcolor": "white",
            "linecolor": "white",
            "ticks": ""
           }
          },
          "scene": {
           "xaxis": {
            "backgroundcolor": "#E5ECF6",
            "gridcolor": "white",
            "gridwidth": 2,
            "linecolor": "white",
            "showbackground": true,
            "ticks": "",
            "zerolinecolor": "white"
           },
           "yaxis": {
            "backgroundcolor": "#E5ECF6",
            "gridcolor": "white",
            "gridwidth": 2,
            "linecolor": "white",
            "showbackground": true,
            "ticks": "",
            "zerolinecolor": "white"
           },
           "zaxis": {
            "backgroundcolor": "#E5ECF6",
            "gridcolor": "white",
            "gridwidth": 2,
            "linecolor": "white",
            "showbackground": true,
            "ticks": "",
            "zerolinecolor": "white"
           }
          },
          "shapedefaults": {
           "line": {
            "color": "#2a3f5f"
           }
          },
          "ternary": {
           "aaxis": {
            "gridcolor": "white",
            "linecolor": "white",
            "ticks": ""
           },
           "baxis": {
            "gridcolor": "white",
            "linecolor": "white",
            "ticks": ""
           },
           "bgcolor": "#E5ECF6",
           "caxis": {
            "gridcolor": "white",
            "linecolor": "white",
            "ticks": ""
           }
          },
          "title": {
           "x": 0.05
          },
          "xaxis": {
           "automargin": true,
           "gridcolor": "white",
           "linecolor": "white",
           "ticks": "",
           "title": {
            "standoff": 15
           },
           "zerolinecolor": "white",
           "zerolinewidth": 2
          },
          "yaxis": {
           "automargin": true,
           "gridcolor": "white",
           "linecolor": "white",
           "ticks": "",
           "title": {
            "standoff": 15
           },
           "zerolinecolor": "white",
           "zerolinewidth": 2
          }
         }
        },
        "title": {
         "font": {
          "size": 24
         },
         "text": "MÉDIA DAS AVALIAÇÕES POR TURMA",
         "x": 0.5,
         "xanchor": "center",
         "y": 0.96,
         "yanchor": "top"
        },
        "width": 1500,
        "xaxis": {
         "anchor": "y",
         "domain": [
          0,
          1
         ],
         "tickfont": {
          "size": 14
         },
         "title": {
          "font": {
           "size": 18
          },
          "text": "Turma"
         }
        },
        "yaxis": {
         "anchor": "x",
         "domain": [
          0,
          1
         ],
         "tickfont": {
          "size": 14
         },
         "title": {
          "font": {
           "size": 18
          },
          "text": "Notas"
         }
        }
       }
      },
      "text/html": [
       "<div>                        <script type=\"text/javascript\">window.PlotlyConfig = {MathJaxConfig: 'local'};</script>\n",
       "        <script charset=\"utf-8\" src=\"https://cdn.plot.ly/plotly-2.35.2.min.js\"></script>                <div id=\"63e2152b-97b8-4fde-b63b-e86672d5cb72\" class=\"plotly-graph-div\" style=\"height:700px; width:1500px;\"></div>            <script type=\"text/javascript\">                                    window.PLOTLYENV=window.PLOTLYENV || {};                                    if (document.getElementById(\"63e2152b-97b8-4fde-b63b-e86672d5cb72\")) {                    Plotly.newPlot(                        \"63e2152b-97b8-4fde-b63b-e86672d5cb72\",                        [{\"alignmentgroup\":\"True\",\"hovertemplate\":\"Instrumentos Avaliativos=Inst_1\\u003cbr\\u003eTurma=%{x}\\u003cbr\\u003evalue=%{y}\\u003cextra\\u003e\\u003c\\u002fextra\\u003e\",\"legendgroup\":\"Inst_1\",\"marker\":{\"color\":\"#636efa\",\"pattern\":{\"shape\":\"\"}},\"name\":\"Inst_1\",\"offsetgroup\":\"Inst_1\",\"orientation\":\"v\",\"showlegend\":true,\"textposition\":\"auto\",\"texttemplate\":\"%{y}\",\"x\":[\"900\",\"901\",\"902\"],\"xaxis\":\"x\",\"y\":[10.782608695652174,20.0,11.789473684210526],\"yaxis\":\"y\",\"type\":\"bar\"},{\"alignmentgroup\":\"True\",\"hovertemplate\":\"Instrumentos Avaliativos=Inst_2\\u003cbr\\u003eTurma=%{x}\\u003cbr\\u003evalue=%{y}\\u003cextra\\u003e\\u003c\\u002fextra\\u003e\",\"legendgroup\":\"Inst_2\",\"marker\":{\"color\":\"#EF553B\",\"pattern\":{\"shape\":\"\"}},\"name\":\"Inst_2\",\"offsetgroup\":\"Inst_2\",\"orientation\":\"v\",\"showlegend\":true,\"textposition\":\"auto\",\"texttemplate\":\"%{y}\",\"x\":[\"900\",\"901\",\"902\"],\"xaxis\":\"x\",\"y\":[11.478260869565217,11.482758620689655,11.736842105263158],\"yaxis\":\"y\",\"type\":\"bar\"},{\"alignmentgroup\":\"True\",\"hovertemplate\":\"Instrumentos Avaliativos=Inst_3\\u003cbr\\u003eTurma=%{x}\\u003cbr\\u003evalue=%{y}\\u003cextra\\u003e\\u003c\\u002fextra\\u003e\",\"legendgroup\":\"Inst_3\",\"marker\":{\"color\":\"#00cc96\",\"pattern\":{\"shape\":\"\"}},\"name\":\"Inst_3\",\"offsetgroup\":\"Inst_3\",\"orientation\":\"v\",\"showlegend\":true,\"textposition\":\"auto\",\"texttemplate\":\"%{y}\",\"x\":[\"900\",\"901\",\"902\"],\"xaxis\":\"x\",\"y\":[6.521739130434782,23.79310344827586,24.157894736842106],\"yaxis\":\"y\",\"type\":\"bar\"},{\"alignmentgroup\":\"True\",\"hovertemplate\":\"Instrumentos Avaliativos=CAED\\u003cbr\\u003eTurma=%{x}\\u003cbr\\u003evalue=%{y}\\u003cextra\\u003e\\u003c\\u002fextra\\u003e\",\"legendgroup\":\"CAED\",\"marker\":{\"color\":\"#ab63fa\",\"pattern\":{\"shape\":\"\"}},\"name\":\"CAED\",\"offsetgroup\":\"CAED\",\"orientation\":\"v\",\"showlegend\":true,\"textposition\":\"auto\",\"texttemplate\":\"%{y}\",\"x\":[\"900\",\"901\",\"902\"],\"xaxis\":\"x\",\"y\":[9.869565217391305,10.827586206896552,10.157894736842104],\"yaxis\":\"y\",\"type\":\"bar\"},{\"alignmentgroup\":\"True\",\"hovertemplate\":\"Instrumentos Avaliativos=Comportamento\\u003cbr\\u003eTurma=%{x}\\u003cbr\\u003evalue=%{y}\\u003cextra\\u003e\\u003c\\u002fextra\\u003e\",\"legendgroup\":\"Comportamento\",\"marker\":{\"color\":\"#FFA15A\",\"pattern\":{\"shape\":\"\"}},\"name\":\"Comportamento\",\"offsetgroup\":\"Comportamento\",\"orientation\":\"v\",\"showlegend\":true,\"textposition\":\"auto\",\"texttemplate\":\"%{y}\",\"x\":[\"900\",\"901\",\"902\"],\"xaxis\":\"x\",\"y\":[15.217391304347826,17.413793103448278,14.0],\"yaxis\":\"y\",\"type\":\"bar\"}],                        {\"template\":{\"data\":{\"histogram2dcontour\":[{\"type\":\"histogram2dcontour\",\"colorbar\":{\"outlinewidth\":0,\"ticks\":\"\"},\"colorscale\":[[0.0,\"#0d0887\"],[0.1111111111111111,\"#46039f\"],[0.2222222222222222,\"#7201a8\"],[0.3333333333333333,\"#9c179e\"],[0.4444444444444444,\"#bd3786\"],[0.5555555555555556,\"#d8576b\"],[0.6666666666666666,\"#ed7953\"],[0.7777777777777778,\"#fb9f3a\"],[0.8888888888888888,\"#fdca26\"],[1.0,\"#f0f921\"]]}],\"choropleth\":[{\"type\":\"choropleth\",\"colorbar\":{\"outlinewidth\":0,\"ticks\":\"\"}}],\"histogram2d\":[{\"type\":\"histogram2d\",\"colorbar\":{\"outlinewidth\":0,\"ticks\":\"\"},\"colorscale\":[[0.0,\"#0d0887\"],[0.1111111111111111,\"#46039f\"],[0.2222222222222222,\"#7201a8\"],[0.3333333333333333,\"#9c179e\"],[0.4444444444444444,\"#bd3786\"],[0.5555555555555556,\"#d8576b\"],[0.6666666666666666,\"#ed7953\"],[0.7777777777777778,\"#fb9f3a\"],[0.8888888888888888,\"#fdca26\"],[1.0,\"#f0f921\"]]}],\"heatmap\":[{\"type\":\"heatmap\",\"colorbar\":{\"outlinewidth\":0,\"ticks\":\"\"},\"colorscale\":[[0.0,\"#0d0887\"],[0.1111111111111111,\"#46039f\"],[0.2222222222222222,\"#7201a8\"],[0.3333333333333333,\"#9c179e\"],[0.4444444444444444,\"#bd3786\"],[0.5555555555555556,\"#d8576b\"],[0.6666666666666666,\"#ed7953\"],[0.7777777777777778,\"#fb9f3a\"],[0.8888888888888888,\"#fdca26\"],[1.0,\"#f0f921\"]]}],\"heatmapgl\":[{\"type\":\"heatmapgl\",\"colorbar\":{\"outlinewidth\":0,\"ticks\":\"\"},\"colorscale\":[[0.0,\"#0d0887\"],[0.1111111111111111,\"#46039f\"],[0.2222222222222222,\"#7201a8\"],[0.3333333333333333,\"#9c179e\"],[0.4444444444444444,\"#bd3786\"],[0.5555555555555556,\"#d8576b\"],[0.6666666666666666,\"#ed7953\"],[0.7777777777777778,\"#fb9f3a\"],[0.8888888888888888,\"#fdca26\"],[1.0,\"#f0f921\"]]}],\"contourcarpet\":[{\"type\":\"contourcarpet\",\"colorbar\":{\"outlinewidth\":0,\"ticks\":\"\"}}],\"contour\":[{\"type\":\"contour\",\"colorbar\":{\"outlinewidth\":0,\"ticks\":\"\"},\"colorscale\":[[0.0,\"#0d0887\"],[0.1111111111111111,\"#46039f\"],[0.2222222222222222,\"#7201a8\"],[0.3333333333333333,\"#9c179e\"],[0.4444444444444444,\"#bd3786\"],[0.5555555555555556,\"#d8576b\"],[0.6666666666666666,\"#ed7953\"],[0.7777777777777778,\"#fb9f3a\"],[0.8888888888888888,\"#fdca26\"],[1.0,\"#f0f921\"]]}],\"surface\":[{\"type\":\"surface\",\"colorbar\":{\"outlinewidth\":0,\"ticks\":\"\"},\"colorscale\":[[0.0,\"#0d0887\"],[0.1111111111111111,\"#46039f\"],[0.2222222222222222,\"#7201a8\"],[0.3333333333333333,\"#9c179e\"],[0.4444444444444444,\"#bd3786\"],[0.5555555555555556,\"#d8576b\"],[0.6666666666666666,\"#ed7953\"],[0.7777777777777778,\"#fb9f3a\"],[0.8888888888888888,\"#fdca26\"],[1.0,\"#f0f921\"]]}],\"mesh3d\":[{\"type\":\"mesh3d\",\"colorbar\":{\"outlinewidth\":0,\"ticks\":\"\"}}],\"scatter\":[{\"fillpattern\":{\"fillmode\":\"overlay\",\"size\":10,\"solidity\":0.2},\"type\":\"scatter\"}],\"parcoords\":[{\"type\":\"parcoords\",\"line\":{\"colorbar\":{\"outlinewidth\":0,\"ticks\":\"\"}}}],\"scatterpolargl\":[{\"type\":\"scatterpolargl\",\"marker\":{\"colorbar\":{\"outlinewidth\":0,\"ticks\":\"\"}}}],\"bar\":[{\"error_x\":{\"color\":\"#2a3f5f\"},\"error_y\":{\"color\":\"#2a3f5f\"},\"marker\":{\"line\":{\"color\":\"#E5ECF6\",\"width\":0.5},\"pattern\":{\"fillmode\":\"overlay\",\"size\":10,\"solidity\":0.2}},\"type\":\"bar\"}],\"scattergeo\":[{\"type\":\"scattergeo\",\"marker\":{\"colorbar\":{\"outlinewidth\":0,\"ticks\":\"\"}}}],\"scatterpolar\":[{\"type\":\"scatterpolar\",\"marker\":{\"colorbar\":{\"outlinewidth\":0,\"ticks\":\"\"}}}],\"histogram\":[{\"marker\":{\"pattern\":{\"fillmode\":\"overlay\",\"size\":10,\"solidity\":0.2}},\"type\":\"histogram\"}],\"scattergl\":[{\"type\":\"scattergl\",\"marker\":{\"colorbar\":{\"outlinewidth\":0,\"ticks\":\"\"}}}],\"scatter3d\":[{\"type\":\"scatter3d\",\"line\":{\"colorbar\":{\"outlinewidth\":0,\"ticks\":\"\"}},\"marker\":{\"colorbar\":{\"outlinewidth\":0,\"ticks\":\"\"}}}],\"scattermapbox\":[{\"type\":\"scattermapbox\",\"marker\":{\"colorbar\":{\"outlinewidth\":0,\"ticks\":\"\"}}}],\"scatterternary\":[{\"type\":\"scatterternary\",\"marker\":{\"colorbar\":{\"outlinewidth\":0,\"ticks\":\"\"}}}],\"scattercarpet\":[{\"type\":\"scattercarpet\",\"marker\":{\"colorbar\":{\"outlinewidth\":0,\"ticks\":\"\"}}}],\"carpet\":[{\"aaxis\":{\"endlinecolor\":\"#2a3f5f\",\"gridcolor\":\"white\",\"linecolor\":\"white\",\"minorgridcolor\":\"white\",\"startlinecolor\":\"#2a3f5f\"},\"baxis\":{\"endlinecolor\":\"#2a3f5f\",\"gridcolor\":\"white\",\"linecolor\":\"white\",\"minorgridcolor\":\"white\",\"startlinecolor\":\"#2a3f5f\"},\"type\":\"carpet\"}],\"table\":[{\"cells\":{\"fill\":{\"color\":\"#EBF0F8\"},\"line\":{\"color\":\"white\"}},\"header\":{\"fill\":{\"color\":\"#C8D4E3\"},\"line\":{\"color\":\"white\"}},\"type\":\"table\"}],\"barpolar\":[{\"marker\":{\"line\":{\"color\":\"#E5ECF6\",\"width\":0.5},\"pattern\":{\"fillmode\":\"overlay\",\"size\":10,\"solidity\":0.2}},\"type\":\"barpolar\"}],\"pie\":[{\"automargin\":true,\"type\":\"pie\"}]},\"layout\":{\"autotypenumbers\":\"strict\",\"colorway\":[\"#636efa\",\"#EF553B\",\"#00cc96\",\"#ab63fa\",\"#FFA15A\",\"#19d3f3\",\"#FF6692\",\"#B6E880\",\"#FF97FF\",\"#FECB52\"],\"font\":{\"color\":\"#2a3f5f\"},\"hovermode\":\"closest\",\"hoverlabel\":{\"align\":\"left\"},\"paper_bgcolor\":\"white\",\"plot_bgcolor\":\"#E5ECF6\",\"polar\":{\"bgcolor\":\"#E5ECF6\",\"angularaxis\":{\"gridcolor\":\"white\",\"linecolor\":\"white\",\"ticks\":\"\"},\"radialaxis\":{\"gridcolor\":\"white\",\"linecolor\":\"white\",\"ticks\":\"\"}},\"ternary\":{\"bgcolor\":\"#E5ECF6\",\"aaxis\":{\"gridcolor\":\"white\",\"linecolor\":\"white\",\"ticks\":\"\"},\"baxis\":{\"gridcolor\":\"white\",\"linecolor\":\"white\",\"ticks\":\"\"},\"caxis\":{\"gridcolor\":\"white\",\"linecolor\":\"white\",\"ticks\":\"\"}},\"coloraxis\":{\"colorbar\":{\"outlinewidth\":0,\"ticks\":\"\"}},\"colorscale\":{\"sequential\":[[0.0,\"#0d0887\"],[0.1111111111111111,\"#46039f\"],[0.2222222222222222,\"#7201a8\"],[0.3333333333333333,\"#9c179e\"],[0.4444444444444444,\"#bd3786\"],[0.5555555555555556,\"#d8576b\"],[0.6666666666666666,\"#ed7953\"],[0.7777777777777778,\"#fb9f3a\"],[0.8888888888888888,\"#fdca26\"],[1.0,\"#f0f921\"]],\"sequentialminus\":[[0.0,\"#0d0887\"],[0.1111111111111111,\"#46039f\"],[0.2222222222222222,\"#7201a8\"],[0.3333333333333333,\"#9c179e\"],[0.4444444444444444,\"#bd3786\"],[0.5555555555555556,\"#d8576b\"],[0.6666666666666666,\"#ed7953\"],[0.7777777777777778,\"#fb9f3a\"],[0.8888888888888888,\"#fdca26\"],[1.0,\"#f0f921\"]],\"diverging\":[[0,\"#8e0152\"],[0.1,\"#c51b7d\"],[0.2,\"#de77ae\"],[0.3,\"#f1b6da\"],[0.4,\"#fde0ef\"],[0.5,\"#f7f7f7\"],[0.6,\"#e6f5d0\"],[0.7,\"#b8e186\"],[0.8,\"#7fbc41\"],[0.9,\"#4d9221\"],[1,\"#276419\"]]},\"xaxis\":{\"gridcolor\":\"white\",\"linecolor\":\"white\",\"ticks\":\"\",\"title\":{\"standoff\":15},\"zerolinecolor\":\"white\",\"automargin\":true,\"zerolinewidth\":2},\"yaxis\":{\"gridcolor\":\"white\",\"linecolor\":\"white\",\"ticks\":\"\",\"title\":{\"standoff\":15},\"zerolinecolor\":\"white\",\"automargin\":true,\"zerolinewidth\":2},\"scene\":{\"xaxis\":{\"backgroundcolor\":\"#E5ECF6\",\"gridcolor\":\"white\",\"linecolor\":\"white\",\"showbackground\":true,\"ticks\":\"\",\"zerolinecolor\":\"white\",\"gridwidth\":2},\"yaxis\":{\"backgroundcolor\":\"#E5ECF6\",\"gridcolor\":\"white\",\"linecolor\":\"white\",\"showbackground\":true,\"ticks\":\"\",\"zerolinecolor\":\"white\",\"gridwidth\":2},\"zaxis\":{\"backgroundcolor\":\"#E5ECF6\",\"gridcolor\":\"white\",\"linecolor\":\"white\",\"showbackground\":true,\"ticks\":\"\",\"zerolinecolor\":\"white\",\"gridwidth\":2}},\"shapedefaults\":{\"line\":{\"color\":\"#2a3f5f\"}},\"annotationdefaults\":{\"arrowcolor\":\"#2a3f5f\",\"arrowhead\":0,\"arrowwidth\":1},\"geo\":{\"bgcolor\":\"white\",\"landcolor\":\"#E5ECF6\",\"subunitcolor\":\"white\",\"showland\":true,\"showlakes\":true,\"lakecolor\":\"white\"},\"title\":{\"x\":0.05},\"mapbox\":{\"style\":\"light\"}}},\"xaxis\":{\"anchor\":\"y\",\"domain\":[0.0,1.0],\"title\":{\"text\":\"Turma\",\"font\":{\"size\":18}},\"tickfont\":{\"size\":14}},\"yaxis\":{\"anchor\":\"x\",\"domain\":[0.0,1.0],\"title\":{\"text\":\"Notas\",\"font\":{\"size\":18}},\"tickfont\":{\"size\":14}},\"legend\":{\"title\":{\"text\":\"Instrumentos Avaliativos\"},\"tracegroupgap\":0},\"margin\":{\"t\":60},\"barmode\":\"relative\",\"title\":{\"font\":{\"size\":24},\"text\":\"M\\u00c9DIA DAS AVALIA\\u00c7\\u00d5ES POR TURMA\",\"y\":0.96,\"x\":0.5,\"xanchor\":\"center\",\"yanchor\":\"top\"},\"width\":1500,\"height\":700},                        {\"responsive\": true}                    )                };                            </script>        </div>"
      ],
      "text/plain": [
       "Figure({\n",
       "    'data': [{'alignmentgroup': 'True',\n",
       "              'hovertemplate': 'Instrumentos Avaliativos=Inst_1<br>Turma=%{x}<br>value=%{y}<extra></extra>',\n",
       "              'legendgroup': 'Inst_1',\n",
       "              'marker': {'color': '#636efa', 'pattern': {'shape': ''}},\n",
       "              'name': 'Inst_1',\n",
       "              'offsetgroup': 'Inst_1',\n",
       "              'orientation': 'v',\n",
       "              'showlegend': True,\n",
       "              'textposition': 'auto',\n",
       "              'texttemplate': '%{y}',\n",
       "              'type': 'bar',\n",
       "              'x': array(['900', '901', '902'], dtype=object),\n",
       "              'xaxis': 'x',\n",
       "              'y': array([10.7826087 , 20.        , 11.78947368]),\n",
       "              'yaxis': 'y'},\n",
       "             {'alignmentgroup': 'True',\n",
       "              'hovertemplate': 'Instrumentos Avaliativos=Inst_2<br>Turma=%{x}<br>value=%{y}<extra></extra>',\n",
       "              'legendgroup': 'Inst_2',\n",
       "              'marker': {'color': '#EF553B', 'pattern': {'shape': ''}},\n",
       "              'name': 'Inst_2',\n",
       "              'offsetgroup': 'Inst_2',\n",
       "              'orientation': 'v',\n",
       "              'showlegend': True,\n",
       "              'textposition': 'auto',\n",
       "              'texttemplate': '%{y}',\n",
       "              'type': 'bar',\n",
       "              'x': array(['900', '901', '902'], dtype=object),\n",
       "              'xaxis': 'x',\n",
       "              'y': array([11.47826087, 11.48275862, 11.73684211]),\n",
       "              'yaxis': 'y'},\n",
       "             {'alignmentgroup': 'True',\n",
       "              'hovertemplate': 'Instrumentos Avaliativos=Inst_3<br>Turma=%{x}<br>value=%{y}<extra></extra>',\n",
       "              'legendgroup': 'Inst_3',\n",
       "              'marker': {'color': '#00cc96', 'pattern': {'shape': ''}},\n",
       "              'name': 'Inst_3',\n",
       "              'offsetgroup': 'Inst_3',\n",
       "              'orientation': 'v',\n",
       "              'showlegend': True,\n",
       "              'textposition': 'auto',\n",
       "              'texttemplate': '%{y}',\n",
       "              'type': 'bar',\n",
       "              'x': array(['900', '901', '902'], dtype=object),\n",
       "              'xaxis': 'x',\n",
       "              'y': array([ 6.52173913, 23.79310345, 24.15789474]),\n",
       "              'yaxis': 'y'},\n",
       "             {'alignmentgroup': 'True',\n",
       "              'hovertemplate': 'Instrumentos Avaliativos=CAED<br>Turma=%{x}<br>value=%{y}<extra></extra>',\n",
       "              'legendgroup': 'CAED',\n",
       "              'marker': {'color': '#ab63fa', 'pattern': {'shape': ''}},\n",
       "              'name': 'CAED',\n",
       "              'offsetgroup': 'CAED',\n",
       "              'orientation': 'v',\n",
       "              'showlegend': True,\n",
       "              'textposition': 'auto',\n",
       "              'texttemplate': '%{y}',\n",
       "              'type': 'bar',\n",
       "              'x': array(['900', '901', '902'], dtype=object),\n",
       "              'xaxis': 'x',\n",
       "              'y': array([ 9.86956522, 10.82758621, 10.15789474]),\n",
       "              'yaxis': 'y'},\n",
       "             {'alignmentgroup': 'True',\n",
       "              'hovertemplate': ('Instrumentos Avaliativos=Compo' ... '}<br>value=%{y}<extra></extra>'),\n",
       "              'legendgroup': 'Comportamento',\n",
       "              'marker': {'color': '#FFA15A', 'pattern': {'shape': ''}},\n",
       "              'name': 'Comportamento',\n",
       "              'offsetgroup': 'Comportamento',\n",
       "              'orientation': 'v',\n",
       "              'showlegend': True,\n",
       "              'textposition': 'auto',\n",
       "              'texttemplate': '%{y}',\n",
       "              'type': 'bar',\n",
       "              'x': array(['900', '901', '902'], dtype=object),\n",
       "              'xaxis': 'x',\n",
       "              'y': array([15.2173913, 17.4137931, 14.       ]),\n",
       "              'yaxis': 'y'}],\n",
       "    'layout': {'barmode': 'relative',\n",
       "               'height': 700,\n",
       "               'legend': {'title': {'text': 'Instrumentos Avaliativos'}, 'tracegroupgap': 0},\n",
       "               'margin': {'t': 60},\n",
       "               'template': '...',\n",
       "               'title': {'font': {'size': 24},\n",
       "                         'text': 'MÉDIA DAS AVALIAÇÕES POR TURMA',\n",
       "                         'x': 0.5,\n",
       "                         'xanchor': 'center',\n",
       "                         'y': 0.96,\n",
       "                         'yanchor': 'top'},\n",
       "               'width': 1500,\n",
       "               'xaxis': {'anchor': 'y',\n",
       "                         'domain': [0.0, 1.0],\n",
       "                         'tickfont': {'size': 14},\n",
       "                         'title': {'font': {'size': 18}, 'text': 'Turma'}},\n",
       "               'yaxis': {'anchor': 'x',\n",
       "                         'domain': [0.0, 1.0],\n",
       "                         'tickfont': {'size': 14},\n",
       "                         'title': {'font': {'size': 18}, 'text': 'Notas'}}}\n",
       "})"
      ]
     },
     "execution_count": 8,
     "metadata": {},
     "output_type": "execute_result"
    }
   ],
   "source": [
    "#Media de notas por turnma\n",
    "\n",
    "df_mean = df.groupby(\"Turma\")[['Inst_1','Inst_2','Inst_3','CAED','Comportamento']].mean()\n",
    "\n",
    "fig4 = px.bar(\n",
    "    df_mean,\n",
    "    y=['Inst_1','Inst_2','Inst_3','CAED','Comportamento'],\n",
    "    labels={\"variable\": \"Instrumentos Avaliativos\"},\n",
    "    text_auto=True,\n",
    "    )\n",
    "\n",
    "fig4.update_layout(\n",
    "        title={\n",
    "        'text': 'MÉDIA DAS AVALIAÇÕES POR TURMA',  # Título do gráfico\n",
    "        'y': 0.96,\n",
    "        'x': 0.5,\n",
    "        'xanchor': 'center',\n",
    "        'yanchor': 'top',\n",
    "        'font': {'size': 24}  # Tamanho da fonte do título\n",
    "    },\n",
    "    xaxis_title='Turma',  # Nome do eixo x\n",
    "    xaxis=dict(\n",
    "        title_font=dict(size=18),  # Tamanho da fonte do título do eixo x\n",
    "        tickfont=dict(size=14)  # Tamanho da fonte dos ticks do eixo x\n",
    "    ),\n",
    "    yaxis_title=\"Notas\",\n",
    "    yaxis=dict(\n",
    "        title_font=dict(size=18),  # Tamanho da fonte do título do eixo y\n",
    "        tickfont=dict(size=14)  # Tamanho da fonte dos ticks do eixo y\n",
    "    ),\n",
    "    width=1500,\n",
    "    height=700\n",
    ")\n",
    "#fig4.show()"
   ]
  },
  {
   "cell_type": "markdown",
   "metadata": {},
   "source": [
    "### GERAR OS HTMLS PLOTLY"
   ]
  },
  {
   "cell_type": "code",
   "execution_count": 9,
   "metadata": {},
   "outputs": [
    {
     "name": "stdout",
     "output_type": "stream",
     "text": [
      "Pasta imagens/ já existe. Não foi realizada nenhuma ação.\n"
     ]
    }
   ],
   "source": [
    "#Gerando os HTMLS\n",
    "\n",
    "path_imgs = \"imagens/\"\n",
    "\n",
    "if not os.path.exists(path_imgs):\n",
    "    os.makedirs(path_imgs)\n",
    "    print(f\"Pasta {path_imgs} criada!\")\n",
    "else:\n",
    "    print(f\"Pasta {path_imgs} já existe. Não foi realizada nenhuma ação.\")\n",
    "\n",
    "figs = [('900',fig1),('901',fig2),('902',fig3),('media',fig4)]\n",
    "\n",
    "for turma, fig in figs:\n",
    "    pio.write_html(fig,f\"imagens/notas_{turma}.html\", auto_open=False)"
   ]
  },
  {
   "cell_type": "markdown",
   "metadata": {},
   "source": [
    "### GRÁFICOS MATPLOTLIB"
   ]
  },
  {
   "cell_type": "code",
   "execution_count": 10,
   "metadata": {},
   "outputs": [],
   "source": [
    "def graficos_turma(df, turma: str, output_path: str = \"imagens\", xlim: int = 100):\n",
    "    \"\"\"\n",
    "    Creates a stacked horizontal bar chart summarizing evaluations for a specific class (turma).\n",
    "\n",
    "    Parameters:\n",
    "        df (pd.DataFrame): Data containing columns 'Nome', 'Inst_1', 'Inst_2', etc.\n",
    "        turma (str): Name of the class (Turma).\n",
    "        output_path (str): Directory where the chart will be saved.\n",
    "        xlim (int): Maximum x-axis value for the chart.\n",
    "    \"\"\"\n",
    "    # Define metrics to include in the chart\n",
    "    metrics = ['Inst_1', 'Inst_2', 'Inst_3', 'Comportamento', 'CAED']\n",
    "    colors = ['#1f77b4', '#ff7f0e', '#2ca02c', '#d62728', '#9467bd']  # Optional color scheme\n",
    "\n",
    "    # Ensure required columns exist\n",
    "    missing_cols = [col for col in metrics if col not in df.columns]\n",
    "    if missing_cols:\n",
    "        raise ValueError(f\"Missing required columns in DataFrame: {missing_cols}\")\n",
    "\n",
    "    # Create figure and axis\n",
    "    fig, ax = plt.subplots(1, 1, figsize=(15, 7))\n",
    "\n",
    "    # Initialize starting position for stacking\n",
    "    left_positions = [0] * len(df)\n",
    "\n",
    "    # Add each metric to the bar chart\n",
    "    for metric, color in zip(metrics, colors):\n",
    "        hbar = ax.barh(\n",
    "            df['Nome'], width=df[metric], left=left_positions, label=metric, color=color\n",
    "        )\n",
    "        # Add labels\n",
    "        ax.bar_label(\n",
    "            hbar, labels=[f\"{v:.2f}\" if v != 0 else '' for v in hbar.datavalues], fontsize=10\n",
    "        )\n",
    "        # Update left positions for the next metric\n",
    "        left_positions += df[metric]\n",
    "\n",
    "    # Chart styling\n",
    "    ax.set_title(f\"Instrumentos Avaliativos - Turma {turma}\", fontdict={'size': 26})\n",
    "    ax.set_xlabel(\"Notas\", fontsize=14)\n",
    "    ax.legend(loc='upper center', bbox_to_anchor=(0.5, -0.1), ncol=len(metrics), fontsize=14)\n",
    "    ax.grid(True, axis='x')\n",
    "    ax.tick_params(axis='x', labelsize=12)\n",
    "    ax.tick_params(axis='y', labelsize=12)\n",
    "    ax.set_xlim(0, xlim)\n",
    "\n",
    "    # Save the chart\n",
    "    plt.tight_layout()\n",
    "    output_file = f\"{output_path}/notas_{turma}.png\"\n",
    "    fig.savefig(output_file, format=\"png\", dpi=500)\n",
    "    plt.close(fig)\n",
    "    print(f\"Chart saved to: {output_file}\")\n"
   ]
  },
  {
   "cell_type": "code",
   "execution_count": 11,
   "metadata": {},
   "outputs": [
    {
     "name": "stdout",
     "output_type": "stream",
     "text": [
      "Chart saved to: imagens/notas_900.png\n",
      "Chart saved to: imagens/notas_901.png\n",
      "Chart saved to: imagens/notas_902.png\n"
     ]
    }
   ],
   "source": [
    "graficos_turma(df_900,\"900\",xlim=110)\n",
    "graficos_turma(df_901,\"901\", xlim=110)\n",
    "graficos_turma(df_902,\"902\", xlim=110)"
   ]
  },
  {
   "cell_type": "markdown",
   "metadata": {},
   "source": [
    "### GRÁFICOS MÉDIA MATPLOTLIB"
   ]
  },
  {
   "cell_type": "code",
   "execution_count": 12,
   "metadata": {},
   "outputs": [
    {
     "name": "stdout",
     "output_type": "stream",
     "text": [
      "Chart saved to: imagens/medias.png\n"
     ]
    }
   ],
   "source": [
    "def plot_mean_scores(df_mean, output_path=\"imagens/medias.png\"):\n",
    "    \"\"\"\n",
    "    Generates a stacked bar chart displaying the mean scores of evaluative metrics per Turma.\n",
    "\n",
    "    Parameters:\n",
    "        df_mean (pd.DataFrame): DataFrame with mean scores (columns like 'Inst_1', 'Inst_2', etc.) indexed by 'Turma'.\n",
    "        output_path (str): Filepath to save the chart as a PNG.\n",
    "    \"\"\"\n",
    "    # Define metrics dynamically\n",
    "    metrics = ['Inst_1', 'Inst_2', 'Inst_3', 'Comportamento', 'CAED']\n",
    "    colors = ['#1f77b4', '#ff7f0e', '#2ca02c', '#d62728', '#9467bd']  # Optional color scheme\n",
    "\n",
    "    # Ensure required columns exist\n",
    "    missing_cols = [col for col in metrics if col not in df_mean.columns]\n",
    "    if missing_cols:\n",
    "        raise ValueError(f\"Missing required columns in DataFrame: {missing_cols}\")\n",
    "\n",
    "    # Prepare figure and axis\n",
    "    fig_media, ax_media = plt.subplots(1, 1, figsize=(15, 7))\n",
    "\n",
    "    # X-axis categories\n",
    "    x = list(df_mean.index)  # Assuming 'Turma' as the index\n",
    "\n",
    "    # Initialize stacking position\n",
    "    bottoms = np.zeros(len(df_mean))\n",
    "\n",
    "    # Create stacked bars dynamically\n",
    "    for metric, color in zip(metrics, colors):\n",
    "        bars = ax_media.bar(\n",
    "            x, df_mean[metric], bottom=bottoms, label=metric, color=color\n",
    "        )\n",
    "        # Add bar labels\n",
    "        ax_media.bar_label(\n",
    "            bars, labels=[f\"{v:.2f}\" if v > 0 else '' for v in bars.datavalues], fontsize=10\n",
    "        )\n",
    "        # Update stacking positions\n",
    "        bottoms += df_mean[metric]\n",
    "\n",
    "    # Customize chart\n",
    "    ax_media.set_title(\"Média dos Instrumentos Avaliativos por Turma\", fontdict={'size': 26})\n",
    "    ax_media.set_xlabel(\"Turma\", fontsize=14)\n",
    "    ax_media.set_ylabel(\"Notas\", fontsize=14)\n",
    "    ax_media.legend(loc='upper center', bbox_to_anchor=(0.5, -0.1), ncol=len(metrics), fontsize=14)\n",
    "    ax_media.tick_params(axis='x', labelsize=12)\n",
    "    ax_media.tick_params(axis='y', labelsize=12)\n",
    "    ax_media.grid(axis='y', linestyle='--', alpha=0.7)\n",
    "\n",
    "    # Adjust layout and save\n",
    "    plt.tight_layout()\n",
    "    fig_media.savefig(output_path, format=\"png\", dpi=500)\n",
    "    plt.close(fig_media)\n",
    "    print(f\"Chart saved to: {output_path}\")\n",
    "\n",
    "plot_mean_scores(df_mean)\n",
    "\n"
   ]
  },
  {
   "cell_type": "markdown",
   "metadata": {},
   "source": [
    "### GERANDO O SOMATORIO DAS NOTAS DE CADA TURMA"
   ]
  },
  {
   "cell_type": "code",
   "execution_count": 13,
   "metadata": {},
   "outputs": [],
   "source": [
    "df_900['total'] = df_900.Inst_1 + df_900.Inst_2 + df_900.Inst_3 + df_900.Comportamento + df_900.CAED\n",
    "df_901['total'] = df_901.Inst_1 + df_901.Inst_2 + df_901.Inst_3 + df_901.Comportamento + df_901.CAED\n",
    "df_902['total'] = df_902.Inst_1 + df_902.Inst_2 + df_902.Inst_3 + df_902.Comportamento + df_902.CAED\n",
    "df['total'] = df.Inst_1 + df.Inst_2 + df.Inst_3 + df.Comportamento + df.CAED"
   ]
  },
  {
   "cell_type": "markdown",
   "metadata": {},
   "source": [
    "GRÁFICOS DAS NOTAS TOTAIS"
   ]
  },
  {
   "cell_type": "code",
   "execution_count": 14,
   "metadata": {},
   "outputs": [],
   "source": [
    "def graficos_total(cor=[], df=[]):\n",
    "\n",
    "    fig_total, ax_total = plt.subplots(3,1, figsize=(15,20))\n",
    "\n",
    "    for linha in range(3):\n",
    "        total = ax_total[linha].barh(df[linha]['Nome'], width=df[linha]['total'], color=cor[linha], label=f\"Total dos Inst. Avaliativos - 90{linha}\")\n",
    "        ax_total[linha].bar_label(total)\n",
    "        ax_total[linha].set_xlim(0,100)\n",
    "        ax_total[linha].grid(True, axis=\"x\")\n",
    "        ax_total[linha].legend()\n",
    "        ax_total[linha].set_title(f\"TOTAL DOS INSTRUMENTOS AVALIATIVOS - Turma 90{str(linha)} - 4 Bim\")\n",
    "        fig_total.savefig(\"imagens/notas_totais.png\")\n",
    "        fig_total.tight_layout()\n",
    "        plt.close(fig_total)\n",
    "\n",
    "graficos_total(['blue','green','black'],[df_900, df_901, df_902])"
   ]
  },
  {
   "cell_type": "markdown",
   "metadata": {},
   "source": [
    "### CRIANDO POWERPOINT"
   ]
  },
  {
   "cell_type": "code",
   "execution_count": 15,
   "metadata": {},
   "outputs": [
    {
     "name": "stdout",
     "output_type": "stream",
     "text": [
      "Apresentação criada com sucesso!\n"
     ]
    }
   ],
   "source": [
    "from pptx import Presentation\n",
    "from pptx.util import Inches, Pt\n",
    "from pptx.enum.text import PP_ALIGN\n",
    "\n",
    "# Criar a apresentação\n",
    "prs = Presentation()\n",
    "\n",
    "# Configurar o tamanho do slide para widescreen (16:9)\n",
    "prs.slide_width = Inches(13.33)  # Largura em widescreen\n",
    "prs.slide_height = Inches(7.5)  # Altura em widescreen\n",
    "\n",
    "# Slide 1: Slide de título\n",
    "slide_layout = prs.slide_layouts[6]  # Layout em branco (para controle total)\n",
    "slide = prs.slides.add_slide(slide_layout)\n",
    "\n",
    "# Adicionar título\n",
    "title_box = slide.shapes.add_textbox(Inches(1), Inches(2), Inches(11.33), Inches(1.5))\n",
    "title_frame = title_box.text_frame\n",
    "title_frame.text = \"Notas das Turmas\"\n",
    "title_frame.paragraphs[0].alignment = PP_ALIGN.CENTER  # Centralizar texto\n",
    "title_frame.paragraphs[0].font.size = Pt(60)  # Ajustar tamanho da fonte\n",
    "\n",
    "# Adicionar subtítulo\n",
    "subtitle_box = slide.shapes.add_textbox(Inches(1), Inches(4), Inches(11.33), Inches(1))\n",
    "subtitle_frame = subtitle_box.text_frame\n",
    "subtitle_frame.text = \"4º bimestre - E. M. A. Pereira Bruno\"\n",
    "subtitle_frame.paragraphs[0].alignment = PP_ALIGN.CENTER  # Centralizar texto\n",
    "subtitle_frame.paragraphs[0].font.size = Pt(44)  # Ajustar tamanho da fonte\n",
    "\n",
    "# Imagens (Substitua os caminhos abaixo pelos arquivos das suas imagens)\n",
    "imagens = [\n",
    "    \"imagens/notas_900.png\",\n",
    "    \"imagens/notas_901.png\",\n",
    "    \"imagens/notas_902.png\",\n",
    "    \"imagens/medias.png\"\n",
    "]\n",
    "\n",
    "# Adicionar os slides com imagens\n",
    "for img_path in imagens:\n",
    "    slide_layout = prs.slide_layouts[6]  # Layout em branco\n",
    "    slide = prs.slides.add_slide(slide_layout)\n",
    "\n",
    "    # Definir a posição e o tamanho da imagem para cobrir todo o slide\n",
    "    left = 0  # Margem esquerda\n",
    "    top = 0   # Margem superior\n",
    "    slide.shapes.add_picture(img_path, left, top, width=prs.slide_width, height=prs.slide_height)\n",
    "\n",
    "# Salvar a apresentação\n",
    "prs.save(\"apresentacao_widescreen.pptx\")\n",
    "\n",
    "# Abrir o arquivo automaticamente\n",
    "file_path = \"apresentacao_widescreen.pptx\"\n",
    "#os.startfile(file_path)\n",
    "\n",
    "print(\"Apresentação criada com sucesso!\")\n"
   ]
  },
  {
   "cell_type": "markdown",
   "metadata": {},
   "source": [
    "### GERANDO O EXCEL COM OS DADOS"
   ]
  },
  {
   "cell_type": "code",
   "execution_count": 16,
   "metadata": {},
   "outputs": [],
   "source": [
    "df.drop(columns='id').to_excel(\"Notas_9ano.xlsx\",sheet_name=\"Notas\", index=False)"
   ]
  }
 ],
 "metadata": {
  "kernelspec": {
   "display_name": ".venv",
   "language": "python",
   "name": "python3"
  },
  "language_info": {
   "codemirror_mode": {
    "name": "ipython",
    "version": 3
   },
   "file_extension": ".py",
   "mimetype": "text/x-python",
   "name": "python",
   "nbconvert_exporter": "python",
   "pygments_lexer": "ipython3",
   "version": "3.12.7"
  }
 },
 "nbformat": 4,
 "nbformat_minor": 2
}
