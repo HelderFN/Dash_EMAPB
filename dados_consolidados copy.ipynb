{
 "cells": [
  {
   "cell_type": "markdown",
   "metadata": {},
   "source": [
    "### IMPORTAÇÃO DAS BIBLIOTECAS"
   ]
  },
  {
   "cell_type": "code",
   "execution_count": 3,
   "metadata": {},
   "outputs": [],
   "source": [
    "import pandas as pd\n",
    "import sqlite3\n",
    "import matplotlib.pyplot as plt\n",
    "import numpy as np\n",
    "import plotly.express as px\n",
    "import plotly.graph_objects as go\n",
    "from datetime import datetime\n",
    "import plotly.io as pio\n",
    "import os"
   ]
  },
  {
   "cell_type": "markdown",
   "metadata": {},
   "source": [
    "### CONEXÃO COM O BANCO DE DADOS MYSQL"
   ]
  },
  {
   "cell_type": "code",
   "execution_count": 4,
   "metadata": {},
   "outputs": [],
   "source": [
    "conn = sqlite3.connect(f\"C:/Users/Helde/OneDrive/Área de Trabalho/Base_Dados/dados_turmas.db\")\n",
    "cursor = conn.cursor()\n",
    "query = \"SELECT * FROM alunos\"\n",
    "df = pd.read_sql_query(query, conn)\n",
    "#conn.close()"
   ]
  },
  {
   "cell_type": "markdown",
   "metadata": {},
   "source": [
    "### VERIFICANDO A CONSISTÊNCIA DOS DADOS"
   ]
  },
  {
   "cell_type": "code",
   "execution_count": 5,
   "metadata": {},
   "outputs": [],
   "source": [
    "# Renomenado as colunas\n",
    "\n",
    "colunas_renomear = {\"id\":\"id\", \"nome\":\"Nome\",\"data_nasc\":\"Nascimento\",\"turma\":\"Turma\",\"bim\":\"Bimestre\",\"avaliacao_1\":\"Inst_1\", \"avaliacao_2\":\"Inst_2\",\"avaliacao_3\":\"Inst_3\", \"avaliacao_4\":\"Comportamento\",\"avaliacao_5\":\"CAED\"}\n",
    "\n",
    "df.rename(columns=colunas_renomear, inplace=True)"
   ]
  },
  {
   "cell_type": "code",
   "execution_count": 6,
   "metadata": {},
   "outputs": [],
   "source": [
    "# Transformando os dados em numéricos\n",
    "\n",
    "cols = ['Inst_1',\"Inst_2\",\"Inst_3\",\"Comportamento\",\"CAED\",\"Ano\"]\n",
    "\n",
    "for col in cols:\n",
    "    df[col] = pd.to_numeric(df[col], errors = \"coerce\")"
   ]
  },
  {
   "cell_type": "code",
   "execution_count": 7,
   "metadata": {},
   "outputs": [],
   "source": [
    "# Inserindo a coluna idade\n",
    "\n",
    "hoje = datetime.now()\n",
    "df['Nascimento'] = pd.to_datetime(df[\"Nascimento\"], dayfirst=True, format=r\"%d/%m/%Y\")\n",
    "df[\"Idade\"] = df.Nascimento.apply(lambda x: hoje.year - x.year - ((hoje.month,hoje.day) < (x.month,x.day)))"
   ]
  },
  {
   "cell_type": "code",
   "execution_count": 8,
   "metadata": {},
   "outputs": [],
   "source": [
    "# Separando o dataframe por turma\n",
    "\n",
    "df_900 = df.query(\"Turma=='900'\").sort_values(by='Nome', ascending=False)\n",
    "df_901 = df.query(\"Turma=='901'\").sort_values(by='Nome', ascending=False)\n",
    "df_902 = df.query(\"Turma=='902'\").sort_values(by='Nome', ascending=False)"
   ]
  },
  {
   "cell_type": "markdown",
   "metadata": {},
   "source": [
    "### GRÁFICOS"
   ]
  },
  {
   "cell_type": "code",
   "execution_count": null,
   "metadata": {},
   "outputs": [],
   "source": [
    "fig1 = px.bar(\n",
    "    df_900,\n",
    "    y=\"Nome\",\n",
    "    x = [\"Inst_1\",\"Inst_2\",\"Inst_3\",\"Comportamento\",\"CAED\"],\n",
    "    orientation = \"h\",\n",
    "    labels={\"variable\": \"Instrumentos Avaliativos\"},\n",
    "    text_auto=True\n",
    ")\n",
    "\n",
    "fig2 = px.bar(\n",
    "    df_901,\n",
    "    y=\"Nome\",\n",
    "    x = [\"Inst_1\",\"Inst_2\",\"Inst_3\",\"Comportamento\",\"CAED\"],\n",
    "    orientation = \"h\",\n",
    "    labels={\"variable\": \"Instrumentos Avaliativos\"},\n",
    "    text_auto=True\n",
    ")\n",
    "\n",
    "fig3 = px.bar(\n",
    "    df_902,\n",
    "    y=\"Nome\",\n",
    "    x = [\"Inst_1\",\"Inst_2\",\"Inst_3\",\"Comportamento\",\"CAED\"],\n",
    "    orientation = \"h\",\n",
    "     labels={\"variable\": \"Instrumentos Avaliativos\"},\n",
    "     text_auto=True\n",
    ")\n",
    "\n",
    "def atualizar_layout(fig, turma:str):\n",
    "    fig.update_layout(\n",
    "        title={\n",
    "            \"text\": f\"Turma {str(turma)} - Notas dos Instrumentos Avaliativos\",\n",
    "            \"y\": 0.98,\n",
    "            \"x\": 0.5,\n",
    "            \"xanchor\": \"center\",\n",
    "            \"yanchor\":\"top\",\n",
    "            \"font\":{\"size\":24}\n",
    "        },\n",
    "    xaxis_title = \"notas\",\n",
    "    xaxis_range=[0,100],\n",
    "    xaxis = dict(\n",
    "        title_font=dict(size=18),\n",
    "        tickfont=dict(size=14)\n",
    "    ),\n",
    "    yaxis = dict(\n",
    "        title_font = dict(size=18),\n",
    "        tickfont=dict(size=14)\n",
    "    ),\n",
    "\n",
    "    width=1500,\n",
    "    height = 700\n",
    "    )\n",
    "\n",
    "atualizar_layout(fig1,900)\n",
    "atualizar_layout(fig2,901)\n",
    "atualizar_layout(fig3,902)\n",
    "\n",
    "#fig1.show()\n",
    "#fig2.show()\n",
    "#fig3.show()\n"
   ]
  },
  {
   "cell_type": "markdown",
   "metadata": {},
   "source": [
    "### CÁLCULO DAS MÉDIAS POR TURMA"
   ]
  },
  {
   "cell_type": "code",
   "execution_count": null,
   "metadata": {},
   "outputs": [],
   "source": [
    "#Media de notas por turnma\n",
    "\n",
    "df_mean = df.groupby(\"Turma\")[['Inst_1','Inst_2','Inst_3','CAED','Comportamento']].mean()\n",
    "\n",
    "fig4 = px.bar(\n",
    "    df_mean,\n",
    "    y=['Inst_1','Inst_2','Inst_3','CAED','Comportamento'],\n",
    "    labels={\"variable\": \"Instrumentos Avaliativos\"},\n",
    "    text_auto=True,\n",
    "    )\n",
    "\n",
    "fig4.update_layout(\n",
    "        title={\n",
    "        'text': 'MÉDIA DAS AVALIAÇÕES POR TURMA',  # Título do gráfico\n",
    "        'y': 0.96,\n",
    "        'x': 0.5,\n",
    "        'xanchor': 'center',\n",
    "        'yanchor': 'top',\n",
    "        'font': {'size': 24}  # Tamanho da fonte do título\n",
    "    },\n",
    "    xaxis_title='Turma',  # Nome do eixo x\n",
    "    xaxis=dict(\n",
    "        title_font=dict(size=18),  # Tamanho da fonte do título do eixo x\n",
    "        tickfont=dict(size=14)  # Tamanho da fonte dos ticks do eixo x\n",
    "    ),\n",
    "    yaxis_title=\"Notas\",\n",
    "    yaxis=dict(\n",
    "        title_font=dict(size=18),  # Tamanho da fonte do título do eixo y\n",
    "        tickfont=dict(size=14)  # Tamanho da fonte dos ticks do eixo y\n",
    "    ),\n",
    "    width=1500,\n",
    "    height=700\n",
    ")\n",
    "#fig4.show()"
   ]
  },
  {
   "cell_type": "markdown",
   "metadata": {},
   "source": [
    "### GERAR OS HTMLS PLOTLY"
   ]
  },
  {
   "cell_type": "code",
   "execution_count": null,
   "metadata": {},
   "outputs": [],
   "source": [
    "#Gerando os HTMLS\n",
    "\n",
    "figs = [('900',fig1),('901',fig2),('902',fig3),('media',fig4)]\n",
    "\n",
    "for turma, fig in figs:\n",
    "    pio.write_html(fig,f\"imagens/notas_{turma}.html\", auto_open=True)"
   ]
  },
  {
   "cell_type": "markdown",
   "metadata": {},
   "source": [
    "### GRÁFICOS MATPLOTLIB"
   ]
  },
  {
   "cell_type": "code",
   "execution_count": 13,
   "metadata": {},
   "outputs": [],
   "source": [
    "'''def graficos_turma(df, turma:str):\n",
    "\n",
    "    fig, ax = plt.subplots(1,1, figsize=(15, 7))\n",
    "\n",
    "    hbar1 = ax.barh(df['Nome'], width=df['Inst_1'], label=\"Instrumento 1\")\n",
    "    hbar2 = ax.barh(df['Nome'], width=df['Inst_2'], left=df['Inst_1'], label=\"Instrumento 2\")\n",
    "    hbar3 = ax.barh(df['Nome'], width=df['Inst_3'], left=df['Inst_1']+df['Inst_2'], label=\"Instrumento 3\")\n",
    "    hbar4 = ax.barh(df['Nome'], width=df['Comportamento'], left=df['Inst_1']+df['Inst_2']+df['Inst_3'], label=\"Comportamento\")\n",
    "    hbar5 = ax.barh(df['Nome'], width=df['CAED'], left=df['Inst_1']+df['Inst_2']+df['Inst_3']+df['Comportamento'],label=\"CAED\")\n",
    "    \n",
    "\n",
    "    graficos_ = [hbar1, hbar2, hbar3, hbar4, hbar5]\n",
    "    for grafico_ in graficos_:\n",
    "        ax.bar_label(grafico_, labels=[f\"{v:.2f}\" if v != 0 else '' for v in grafico_.datavalues])\n",
    "    #ax.bar_label(hbar1)\n",
    "    #ax.bar_label(hbar2)\n",
    "    #ax.bar_label(hbar3)\n",
    "    #ax.bar_label(hbar4)\n",
    "    #ax.bar_label(hbar5)\n",
    "\n",
    "    ax.set_title(f\"Instrumentos Avaliativos - Turma {turma}\", fontdict={'size':26})\n",
    "    ax.set_xlabel(\"Notas\", fontsize=14)\n",
    "    ax.legend(loc='upper center', bbox_to_anchor=(0.5, -0.1), ncol=5, fontsize=14)\n",
    "    ax.grid(True,axis='x')\n",
    "    ax.tick_params(axis='x', labelsize=12)  # Eixo X\n",
    "    ax.tick_params(axis='y', labelsize=12)  # Eixo Y\n",
    "    ax.set_xlim(0,100)\n",
    "\n",
    "\n",
    "    plt.tight_layout()\n",
    "    fig.savefig(f\"imagens/notas_{turma}.png\",format=\"png\", dpi=500)'''\n",
    "\n",
    "def graficos_turma(df, turma: str, output_path: str = \"imagens\", xlim: int = 100):\n",
    "    \"\"\"\n",
    "    Creates a stacked horizontal bar chart summarizing evaluations for a specific class (turma).\n",
    "\n",
    "    Parameters:\n",
    "        df (pd.DataFrame): Data containing columns 'Nome', 'Inst_1', 'Inst_2', etc.\n",
    "        turma (str): Name of the class (Turma).\n",
    "        output_path (str): Directory where the chart will be saved.\n",
    "        xlim (int): Maximum x-axis value for the chart.\n",
    "    \"\"\"\n",
    "    # Define metrics to include in the chart\n",
    "    metrics = ['Inst_1', 'Inst_2', 'Inst_3', 'Comportamento', 'CAED']\n",
    "    colors = ['#1f77b4', '#ff7f0e', '#2ca02c', '#d62728', '#9467bd']  # Optional color scheme\n",
    "\n",
    "    # Ensure required columns exist\n",
    "    missing_cols = [col for col in metrics if col not in df.columns]\n",
    "    if missing_cols:\n",
    "        raise ValueError(f\"Missing required columns in DataFrame: {missing_cols}\")\n",
    "\n",
    "    # Create figure and axis\n",
    "    fig, ax = plt.subplots(1, 1, figsize=(15, 7))\n",
    "\n",
    "    # Initialize starting position for stacking\n",
    "    left_positions = [0] * len(df)\n",
    "\n",
    "    # Add each metric to the bar chart\n",
    "    for metric, color in zip(metrics, colors):\n",
    "        hbar = ax.barh(\n",
    "            df['Nome'], width=df[metric], left=left_positions, label=metric, color=color\n",
    "        )\n",
    "        # Add labels\n",
    "        ax.bar_label(\n",
    "            hbar, labels=[f\"{v:.2f}\" if v != 0 else '' for v in hbar.datavalues], fontsize=10\n",
    "        )\n",
    "        # Update left positions for the next metric\n",
    "        left_positions += df[metric]\n",
    "\n",
    "    # Chart styling\n",
    "    ax.set_title(f\"Instrumentos Avaliativos - Turma {turma}\", fontdict={'size': 26})\n",
    "    ax.set_xlabel(\"Notas\", fontsize=14)\n",
    "    ax.legend(loc='upper center', bbox_to_anchor=(0.5, -0.1), ncol=len(metrics), fontsize=14)\n",
    "    ax.grid(True, axis='x')\n",
    "    ax.tick_params(axis='x', labelsize=12)\n",
    "    ax.tick_params(axis='y', labelsize=12)\n",
    "    ax.set_xlim(0, xlim)\n",
    "\n",
    "    # Save the chart\n",
    "    plt.tight_layout()\n",
    "    output_file = f\"{output_path}/notas_{turma}.png\"\n",
    "    fig.savefig(output_file, format=\"png\", dpi=500)\n",
    "    plt.close(fig)\n",
    "    print(f\"Chart saved to: {output_file}\")\n"
   ]
  },
  {
   "cell_type": "code",
   "execution_count": 14,
   "metadata": {},
   "outputs": [
    {
     "name": "stdout",
     "output_type": "stream",
     "text": [
      "Chart saved to: imagens/notas_900.png\n",
      "Chart saved to: imagens/notas_901.png\n",
      "Chart saved to: imagens/notas_902.png\n"
     ]
    }
   ],
   "source": [
    "graficos_turma(df_900,\"900\",xlim=110)\n",
    "graficos_turma(df_901,\"901\", xlim=110)\n",
    "graficos_turma(df_902,\"902\", xlim=110)"
   ]
  },
  {
   "cell_type": "markdown",
   "metadata": {},
   "source": [
    "### GRÁFICOS MÉDIA MATPLOTLIB"
   ]
  },
  {
   "cell_type": "code",
   "execution_count": null,
   "metadata": {},
   "outputs": [
    {
     "name": "stdout",
     "output_type": "stream",
     "text": [
      "Chart saved to: imagens/medias.png\n"
     ]
    }
   ],
   "source": [
    "'''fig_media, ax_media = plt.subplots(1,1, figsize=(15,7))\n",
    "\n",
    "x = list(df_mean.index)\n",
    "bar1 = ax_media.bar(x, df_mean['Inst_1'], label='Instrumento 1')\n",
    "bar2 = ax_media.bar(x, df_mean['Inst_2'], bottom=df_mean['Inst_1'], label=\"Instrumento 2\")\n",
    "bar3 = ax_media.bar(x, df_mean['Inst_3'], bottom=df_mean['Inst_1']+df_mean['Inst_2'], label=\"Instrumento 3\")\n",
    "bar4 = ax_media.bar(x, df_mean['Comportamento'], bottom=df_mean['Inst_1']+df_mean['Inst_2']+df_mean['Inst_3'], label = \"Comportamento\")\n",
    "bar5 = ax_media.bar(x, df_mean['CAED'], bottom=df_mean['Inst_1']+df_mean['Inst_2']+df_mean['Inst_3']+df_mean['Comportamento'], label=\"CAED\")\n",
    "\n",
    "graficos = [bar1, bar2, bar3, bar4, bar5]\n",
    "\n",
    "for grafico in graficos:\n",
    "    ax_media.bar_label(grafico, labels=[f\"{v:.2f}\" if v != 0 else '' for v in grafico.datavalues])\n",
    "\n",
    "#ax_media.bar_label(bar1)\n",
    "#ax_media.bar_label(bar2)\n",
    "#ax_media.bar_label(bar3)\n",
    "#ax_media.bar_label(bar4)\n",
    "#ax_media.bar_label(bar5)\n",
    "#print(bar1.datavalues)\n",
    "\n",
    "ax_media.set_title(\"Média dos Instrumentos Avaliativos por Turma\", fontdict={'size':26})\n",
    "ax_media.set_xlabel(\"Notas\", fontsize=14)\n",
    "ax_media.legend(loc='upper center', bbox_to_anchor=(0.5, -0.1), ncol=5, fontsize=14)\n",
    "ax_media.grid(False)\n",
    "ax_media.tick_params(axis='x', labelsize=12)  # Eixo X\n",
    "ax_media.tick_params(axis='y', labelsize=12)  # Eixo Y\n",
    "\n",
    "plt.tight_layout()\n",
    "fig_media.savefig(f\"imagens/medias.png\",format=\"png\", dpi=500)'''\n",
    "\n",
    "\n",
    "def plot_mean_scores(df_mean, output_path=\"imagens/medias.png\"):\n",
    "    \"\"\"\n",
    "    Generates a stacked bar chart displaying the mean scores of evaluative metrics per Turma.\n",
    "\n",
    "    Parameters:\n",
    "        df_mean (pd.DataFrame): DataFrame with mean scores (columns like 'Inst_1', 'Inst_2', etc.) indexed by 'Turma'.\n",
    "        output_path (str): Filepath to save the chart as a PNG.\n",
    "    \"\"\"\n",
    "    # Define metrics dynamically\n",
    "    metrics = ['Inst_1', 'Inst_2', 'Inst_3', 'Comportamento', 'CAED']\n",
    "    colors = ['#1f77b4', '#ff7f0e', '#2ca02c', '#d62728', '#9467bd']  # Optional color scheme\n",
    "\n",
    "    # Ensure required columns exist\n",
    "    missing_cols = [col for col in metrics if col not in df_mean.columns]\n",
    "    if missing_cols:\n",
    "        raise ValueError(f\"Missing required columns in DataFrame: {missing_cols}\")\n",
    "\n",
    "    # Prepare figure and axis\n",
    "    fig_media, ax_media = plt.subplots(1, 1, figsize=(15, 7))\n",
    "\n",
    "    # X-axis categories\n",
    "    x = list(df_mean.index)  # Assuming 'Turma' as the index\n",
    "\n",
    "    # Initialize stacking position\n",
    "    bottoms = np.zeros(len(df_mean))\n",
    "\n",
    "    # Create stacked bars dynamically\n",
    "    for metric, color in zip(metrics, colors):\n",
    "        bars = ax_media.bar(\n",
    "            x, df_mean[metric], bottom=bottoms, label=metric, color=color\n",
    "        )\n",
    "        # Add bar labels\n",
    "        ax_media.bar_label(\n",
    "            bars, labels=[f\"{v:.2f}\" if v > 0 else '' for v in bars.datavalues], fontsize=10\n",
    "        )\n",
    "        # Update stacking positions\n",
    "        bottoms += df_mean[metric]\n",
    "\n",
    "    # Customize chart\n",
    "    ax_media.set_title(\"Média dos Instrumentos Avaliativos por Turma\", fontdict={'size': 26})\n",
    "    ax_media.set_xlabel(\"Turma\", fontsize=14)\n",
    "    ax_media.set_ylabel(\"Notas\", fontsize=14)\n",
    "    ax_media.legend(loc='upper center', bbox_to_anchor=(0.5, -0.1), ncol=len(metrics), fontsize=14)\n",
    "    ax_media.tick_params(axis='x', labelsize=12)\n",
    "    ax_media.tick_params(axis='y', labelsize=12)\n",
    "    ax_media.grid(axis='y', linestyle='--', alpha=0.7)\n",
    "\n",
    "    # Adjust layout and save\n",
    "    plt.tight_layout()\n",
    "    fig_media.savefig(output_path, format=\"png\", dpi=500)\n",
    "    plt.close(fig_media)\n",
    "    print(f\"Chart saved to: {output_path}\")\n",
    "\n",
    "plot_mean_scores(df_mean)\n",
    "\n"
   ]
  },
  {
   "cell_type": "markdown",
   "metadata": {},
   "source": [
    "### GERANDO O SOMATORIO DAS NOTAS DE CADA TURMA"
   ]
  },
  {
   "cell_type": "code",
   "execution_count": null,
   "metadata": {},
   "outputs": [],
   "source": [
    "df_900['total'] = df_900.Inst_1 + df_900.Inst_2 + df_900.Inst_3 + df_900.Comportamento + df_900.CAED\n",
    "df_901['total'] = df_901.Inst_1 + df_901.Inst_2 + df_901.Inst_3 + df_901.Comportamento + df_901.CAED\n",
    "df_902['total'] = df_902.Inst_1 + df_902.Inst_2 + df_902.Inst_3 + df_902.Comportamento + df_902.CAED\n",
    "df['total'] = df.Inst_1 + df.Inst_2 + df.Inst_3 + df.Comportamento + df.CAED"
   ]
  },
  {
   "cell_type": "markdown",
   "metadata": {},
   "source": [
    "GRÁFICOS DAS NOTAS TOTAIS"
   ]
  },
  {
   "cell_type": "code",
   "execution_count": null,
   "metadata": {},
   "outputs": [],
   "source": [
    "def graficos_total(df=[]):\n",
    "\n",
    "    fig_total, ax_total = plt.subplots(3,1, figsize=(15,20))\n",
    "\n",
    "    for linha in range(3):\n",
    "        total = ax_total[linha].barh(df[linha]['Nome'], width=df[linha]['total'], label=f\"Total dos Inst. Avaliativos - 90{linha}\")\n",
    "        ax_total[linha].bar_label(total)\n",
    "        ax_total[linha].set_xlim(0,100)\n",
    "        ax_total[linha].grid(True, axis=\"x\")\n",
    "        ax_total[linha].legend()\n",
    "        ax_total[linha].set_title(f\"TOTAL DOS INSTRUMENTOS AVALIATIVOS - Turma 90{str(linha)} - 4 Bim\")\n",
    "        plt.close(fig_total)\n",
    "\n",
    "graficos_total([df_900, df_901, df_902])"
   ]
  },
  {
   "cell_type": "markdown",
   "metadata": {},
   "source": [
    "### CRIANDO POWERPOINT"
   ]
  },
  {
   "cell_type": "code",
   "execution_count": null,
   "metadata": {},
   "outputs": [],
   "source": [
    "from pptx import Presentation\n",
    "from pptx.util import Inches, Pt\n",
    "from pptx.enum.text import PP_ALIGN\n",
    "\n",
    "# Criar a apresentação\n",
    "prs = Presentation()\n",
    "\n",
    "# Configurar o tamanho do slide para widescreen (16:9)\n",
    "prs.slide_width = Inches(13.33)  # Largura em widescreen\n",
    "prs.slide_height = Inches(7.5)  # Altura em widescreen\n",
    "\n",
    "# Slide 1: Slide de título\n",
    "slide_layout = prs.slide_layouts[6]  # Layout em branco (para controle total)\n",
    "slide = prs.slides.add_slide(slide_layout)\n",
    "\n",
    "# Adicionar título\n",
    "title_box = slide.shapes.add_textbox(Inches(1), Inches(2), Inches(11.33), Inches(1.5))\n",
    "title_frame = title_box.text_frame\n",
    "title_frame.text = \"Notas das Turmas\"\n",
    "title_frame.paragraphs[0].alignment = PP_ALIGN.CENTER  # Centralizar texto\n",
    "title_frame.paragraphs[0].font.size = Pt(60)  # Ajustar tamanho da fonte\n",
    "\n",
    "# Adicionar subtítulo\n",
    "subtitle_box = slide.shapes.add_textbox(Inches(1), Inches(4), Inches(11.33), Inches(1))\n",
    "subtitle_frame = subtitle_box.text_frame\n",
    "subtitle_frame.text = \"4º bimestre - E. M. A. Pereira Bruno\"\n",
    "subtitle_frame.paragraphs[0].alignment = PP_ALIGN.CENTER  # Centralizar texto\n",
    "subtitle_frame.paragraphs[0].font.size = Pt(44)  # Ajustar tamanho da fonte\n",
    "\n",
    "# Imagens (Substitua os caminhos abaixo pelos arquivos das suas imagens)\n",
    "imagens = [\n",
    "    \"imagens/notas_900.png\",\n",
    "    \"imagens/notas_901.png\",\n",
    "    \"imagens/notas_902.png\",\n",
    "    \"imagens/medias.png\"\n",
    "]\n",
    "\n",
    "# Adicionar os slides com imagens\n",
    "for img_path in imagens:\n",
    "    slide_layout = prs.slide_layouts[5]  # Layout em branco\n",
    "    slide = prs.slides.add_slide(slide_layout)\n",
    "\n",
    "    # Definir a posição e o tamanho da imagem para cobrir todo o slide\n",
    "    left = 0  # Margem esquerda\n",
    "    top = 0   # Margem superior\n",
    "    slide.shapes.add_picture(img_path, left, top, width=prs.slide_width, height=prs.slide_height)\n",
    "\n",
    "# Salvar a apresentação\n",
    "prs.save(\"apresentacao_widescreen.pptx\")\n",
    "\n",
    "# Abrir o arquivo automaticamente\n",
    "file_path = \"apresentacao_widescreen.pptx\"\n",
    "#os.startfile(file_path)\n",
    "\n",
    "print(\"Apresentação criada com sucesso!\")\n"
   ]
  },
  {
   "cell_type": "markdown",
   "metadata": {},
   "source": [
    "### GERANDO O EXCEL COM OS DADOS"
   ]
  },
  {
   "cell_type": "code",
   "execution_count": null,
   "metadata": {},
   "outputs": [],
   "source": [
    "df.to_excel(\"Notas_9ano.xlsx\",sheet_name=\"Notas\", index=False)"
   ]
  }
 ],
 "metadata": {
  "kernelspec": {
   "display_name": ".venv",
   "language": "python",
   "name": "python3"
  },
  "language_info": {
   "codemirror_mode": {
    "name": "ipython",
    "version": 3
   },
   "file_extension": ".py",
   "mimetype": "text/x-python",
   "name": "python",
   "nbconvert_exporter": "python",
   "pygments_lexer": "ipython3",
   "version": "3.12.7"
  }
 },
 "nbformat": 4,
 "nbformat_minor": 2
}
